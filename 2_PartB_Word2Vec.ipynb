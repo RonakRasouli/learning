{
 "cells": [
  {
   "cell_type": "markdown",
   "metadata": {},
   "source": [
    "# Illustrate the Word2Vec Embedding Layer on Trip Advisor Review Dataset"
   ]
  },
  {
   "cell_type": "code",
   "execution_count": 1,
   "metadata": {},
   "outputs": [
    {
     "name": "stderr",
     "output_type": "stream",
     "text": [
      "Using TensorFlow backend.\n"
     ]
    }
   ],
   "source": [
    "import pandas as pd\n",
    "import os\n",
    "import gzip\n",
    "import numpy as np\n",
    "import matplotlib.pyplot as plt\n",
    "import gensim\n",
    "from gensim.models import KeyedVectors\n",
    "from gensim.parsing.preprocessing import remove_stopwords\n",
    "from keras.utils import to_categorical\n",
    "pd.set_option('max_colwidth', 300)"
   ]
  },
  {
   "cell_type": "code",
   "execution_count": 2,
   "metadata": {},
   "outputs": [
    {
     "name": "stdout",
     "output_type": "stream",
     "text": [
      "gensim version is 4.1.2\n"
     ]
    }
   ],
   "source": [
    " # Note you should have 4.1.2\n",
    "print(\"gensim version is\",gensim.__version__ )\n",
    "if gensim.__version__ != '4.1.2':\n",
    "    print (\"Note you need to update gensim using pip install -U gensum\")"
   ]
  },
  {
   "cell_type": "markdown",
   "metadata": {},
   "source": [
    "# 1. Some constants "
   ]
  },
  {
   "cell_type": "code",
   "execution_count": 3,
   "metadata": {},
   "outputs": [],
   "source": [
    "max_review_length = 300 # no of words per review.  reviews will be  truncated or padded to be of this length.\n",
    "max_words = 10000        # this is the size of the index (i.e. most common top words that will be used as features)                       # note code assumes there are enough words in reviews.\n",
    "embedding_dim = 100    # size of embedding.\n",
    "traning_samples= 10000\n",
    "validation_samples = 6000"
   ]
  },
  {
   "cell_type": "markdown",
   "metadata": {},
   "source": [
    "# 2. Reading in the data"
   ]
  },
  {
   "cell_type": "code",
   "execution_count": 4,
   "metadata": {
    "scrolled": false
   },
   "outputs": [
    {
     "name": "stdout",
     "output_type": "stream",
     "text": [
      " tripadvisor_df shape:  (20491, 2)\n"
     ]
    },
    {
     "data": {
      "text/html": [
       "<div>\n",
       "<style scoped>\n",
       "    .dataframe tbody tr th:only-of-type {\n",
       "        vertical-align: middle;\n",
       "    }\n",
       "\n",
       "    .dataframe tbody tr th {\n",
       "        vertical-align: top;\n",
       "    }\n",
       "\n",
       "    .dataframe thead th {\n",
       "        text-align: right;\n",
       "    }\n",
       "</style>\n",
       "<table border=\"1\" class=\"dataframe\">\n",
       "  <thead>\n",
       "    <tr style=\"text-align: right;\">\n",
       "      <th></th>\n",
       "      <th>Review</th>\n",
       "      <th>Rating</th>\n",
       "    </tr>\n",
       "  </thead>\n",
       "  <tbody>\n",
       "    <tr>\n",
       "      <th>0</th>\n",
       "      <td>nice hotel expensive parking got good deal stay hotel anniversary, arrived late evening took advice previous reviews did valet parking, check quick easy, little disappointed non-existent view room room clean nice size, bed comfortable woke stiff neck high pillows, not soundproof like heard music...</td>\n",
       "      <td>4</td>\n",
       "    </tr>\n",
       "    <tr>\n",
       "      <th>1</th>\n",
       "      <td>ok nothing special charge diamond member hilton decided chain shot 20th anniversary seattle, start booked suite paid extra website description not, suite bedroom bathroom standard hotel room, took printed reservation desk showed said things like tv couch ect desk clerk told oh mixed suites descr...</td>\n",
       "      <td>2</td>\n",
       "    </tr>\n",
       "    <tr>\n",
       "      <th>2</th>\n",
       "      <td>nice rooms not 4* experience hotel monaco seattle good hotel n't 4* level.positives large bathroom mediterranean suite comfortable bed pillowsattentive housekeeping staffnegatives ac unit malfunctioned stay desk disorganized, missed 3 separate wakeup calls, concierge busy hard touch, did n't pro...</td>\n",
       "      <td>3</td>\n",
       "    </tr>\n",
       "    <tr>\n",
       "      <th>3</th>\n",
       "      <td>unique, great stay, wonderful time hotel monaco, location excellent short stroll main downtown shopping area, pet friendly room showed no signs animal hair smells, monaco suite sleeping area big striped curtains pulled closed nice touch felt cosy, goldfish named brandi enjoyed, did n't partake f...</td>\n",
       "      <td>5</td>\n",
       "    </tr>\n",
       "    <tr>\n",
       "      <th>4</th>\n",
       "      <td>great stay great stay, went seahawk game awesome, downfall view building did n't complain, room huge staff helpful, booked hotels website seahawk package, no charge parking got voucher taxi, problem taxi driver did n't want accept voucher barely spoke english, funny thing speak arabic called sta...</td>\n",
       "      <td>5</td>\n",
       "    </tr>\n",
       "  </tbody>\n",
       "</table>\n",
       "</div>"
      ],
      "text/plain": [
       "                                                                                                                                                                                                                                                                                                        Review  \\\n",
       "0  nice hotel expensive parking got good deal stay hotel anniversary, arrived late evening took advice previous reviews did valet parking, check quick easy, little disappointed non-existent view room room clean nice size, bed comfortable woke stiff neck high pillows, not soundproof like heard music...   \n",
       "1  ok nothing special charge diamond member hilton decided chain shot 20th anniversary seattle, start booked suite paid extra website description not, suite bedroom bathroom standard hotel room, took printed reservation desk showed said things like tv couch ect desk clerk told oh mixed suites descr...   \n",
       "2  nice rooms not 4* experience hotel monaco seattle good hotel n't 4* level.positives large bathroom mediterranean suite comfortable bed pillowsattentive housekeeping staffnegatives ac unit malfunctioned stay desk disorganized, missed 3 separate wakeup calls, concierge busy hard touch, did n't pro...   \n",
       "3  unique, great stay, wonderful time hotel monaco, location excellent short stroll main downtown shopping area, pet friendly room showed no signs animal hair smells, monaco suite sleeping area big striped curtains pulled closed nice touch felt cosy, goldfish named brandi enjoyed, did n't partake f...   \n",
       "4  great stay great stay, went seahawk game awesome, downfall view building did n't complain, room huge staff helpful, booked hotels website seahawk package, no charge parking got voucher taxi, problem taxi driver did n't want accept voucher barely spoke english, funny thing speak arabic called sta...   \n",
       "\n",
       "   Rating  \n",
       "0       4  \n",
       "1       2  \n",
       "2       3  \n",
       "3       5  \n",
       "4       5  "
      ]
     },
     "execution_count": 4,
     "metadata": {},
     "output_type": "execute_result"
    }
   ],
   "source": [
    "\n",
    "data_dir = \"./data\"\n",
    "tripadvisor_df = pd.read_csv(os.path.join( data_dir, 'tripadvisor_hotel_reviews.csv.zip'))\n",
    "print(\" tripadvisor_df shape: \", tripadvisor_df.shape)\n",
    "tripadvisor_df.head()\n",
    "               "
   ]
  },
  {
   "cell_type": "markdown",
   "metadata": {},
   "source": [
    "# 3. Data Analysis and Visualisation"
   ]
  },
  {
   "cell_type": "code",
   "execution_count": 5,
   "metadata": {},
   "outputs": [
    {
     "data": {
      "text/plain": [
       "Text(0.5, 1.0, ' Class Distribution Tripadvisor Hotel Reviews  ')"
      ]
     },
     "execution_count": 5,
     "metadata": {},
     "output_type": "execute_result"
    },
    {
     "data": {
      "image/png": "[encoded data removed]",
      "text/plain": [
       "<Figure size 720x720 with 1 Axes>"
      ]
     },
     "metadata": {
      "needs_background": "light"
     },
     "output_type": "display_data"
    }
   ],
   "source": [
    "rating_counts = tripadvisor_df['Rating'].value_counts()\n",
    "\n",
    "plt.figure(figsize=(10,10))\n",
    "\n",
    "plt.bar( rating_counts.index , rating_counts.values , color=\"blue\")\n",
    "              \n",
    "plt.xlabel(\"Rating Classes\")\n",
    "plt.ylabel(\"Reviews\")\n",
    "plt.title(\" Class Distribution Tripadvisor Hotel Reviews  \")\n"
   ]
  },
  {
   "cell_type": "code",
   "execution_count": 6,
   "metadata": {},
   "outputs": [
    {
     "name": "stdout",
     "output_type": "stream",
     "text": [
      "poor value stayed monaco seattle july, nice hotel priced 100- 150 night not, hotel takes beating quotient, experience simply average, nothing exceptional paying 300+ n't ca n't terribly disappointed, wife stayed nicest suites 200/night felt like overpaying, best advice shop, quality-wise league average marriott nice best western,  \n"
     ]
    }
   ],
   "source": [
    "texts = tripadvisor_df['Review'].values\n",
    "print(texts[10])"
   ]
  },
  {
   "cell_type": "code",
   "execution_count": 7,
   "metadata": {},
   "outputs": [
    {
     "name": "stdout",
     "output_type": "stream",
     "text": [
      "0 review: ['nice', 'hotel', 'expensive', 'parking', 'got', 'good', 'deal', 'stay']\n",
      "1 review: ['ok', 'special', 'charge', 'diamond', 'member', 'hilton', 'decided', 'chain']\n",
      "2 review: ['nice', 'rooms', 'experience', 'hotel', 'monaco', 'seattle', 'good', 'hotel']\n",
      "3 review: ['unique', 'great', 'stay', 'wonderful', 'time', 'hotel', 'monaco', 'location']\n",
      "4 review: ['great', 'stay', 'great', 'stay', 'went', 'seahawk', 'game', 'awesome']\n",
      "5 review: ['love', 'monaco', 'staff', 'husband', 'stayed', 'hotel', 'crazy', 'weekend']\n",
      "6 review: ['cozy', 'stay', 'rainy', 'city', 'husband', 'spent', 'nights', 'monaco']\n",
      "7 review: ['excellent', 'staff', 'housekeeping', 'quality', 'hotel', 'chocked', 'staff', 'feel']\n",
      "8 review: ['hotel', 'stayed', 'hotel', 'monaco', 'cruise', 'rooms', 'generous', 'decorated']\n",
      "9 review: ['excellent', 'stayed', 'hotel', 'monaco', 'past', 'delight', 'reception', 'staff']\n"
     ]
    }
   ],
   "source": [
    "def prepare_text(texts):\n",
    "    final_text = []\n",
    "    for txt in texts:\n",
    "        text = remove_stopwords(txt)\n",
    "        text_tokenised = gensim.utils.simple_preprocess(text) # does some simple toxenisation\n",
    "        final_text.append(text_tokenised)\n",
    "    return final_text\n",
    "        \n",
    "reviews = prepare_text(texts)\n",
    "\n",
    "for i in range(10):\n",
    "    print(f\"{i} review: {reviews[i][0:8]}\")"
   ]
  },
  {
   "cell_type": "markdown",
   "metadata": {},
   "source": [
    "# 4. Use W2V method to produce the word to vec mappings "
   ]
  },
  {
   "cell_type": "code",
   "execution_count": 8,
   "metadata": {},
   "outputs": [],
   "source": [
    "model = gensim.models.Word2Vec(\n",
    "        reviews,\n",
    "        vector_size=embedding_dim, # size of representation  old version of gensim has size = ...\n",
    "        window=5,            # length of frame for neighbours\n",
    "        # sg = 0 for CBOW, sg = 1 for skipgram.  default is 0\n",
    "        #iter = 5   no of epochs for w2v. default is 5\n",
    "        min_count=2)       "
   ]
  },
  {
   "cell_type": "code",
   "execution_count": 9,
   "metadata": {},
   "outputs": [
    {
     "name": "stdout",
     "output_type": "stream",
     "text": [
      "index_to_key is a list with 25354 words, sample is:\n",
      "\tword 0 == hotel\n",
      "\tword 1 == room\n",
      "\tword 2 == great\n",
      "\tword 3 == good\n",
      "\tword 4 == staff\n",
      "\tword 5 == stay\n",
      "\tword 6 == nice\n",
      "\tword 7 == rooms\n",
      "\tword 8 == location\n",
      "\tword 9 == stayed\n"
     ]
    }
   ],
   "source": [
    "index_to_key = model.wv.index_to_key # different in older versions\n",
    "\n",
    "print(f\"index_to_key is a list with {len(index_to_key)} words, sample is:\")\n",
    "for index, word in enumerate(index_to_key):\n",
    "    if index == 10:\n",
    "        break\n",
    "    print(f\"\\tword {index} == {word}\")"
   ]
  },
  {
   "cell_type": "code",
   "execution_count": 10,
   "metadata": {},
   "outputs": [],
   "source": [
    "# Encode target variable Rating, into a one hot vector.\n",
    "encoding = {1: 0,\n",
    "            2: 1,\n",
    "            3: 2,\n",
    "            4: 3,\n",
    "            5: 4\n",
    "           }\n",
    "labels = ['1', '2', '3', '4', '5']\n",
    "\n",
    "ratings = tripadvisor_df['Rating'].copy()\n",
    "ratings.replace(encoding, inplace=True)\n",
    "ratings = to_categorical(ratings,5)"
   ]
  },
  {
   "cell_type": "markdown",
   "metadata": {},
   "source": [
    "# 5. Code the sentences and set up the training and validation sets"
   ]
  },
  {
   "cell_type": "code",
   "execution_count": 11,
   "metadata": {},
   "outputs": [
    {
     "name": "stdout",
     "output_type": "stream",
     "text": [
      "Line 1 : ['ok', 'special', 'charge', 'diamond', 'member', 'hilton', 'decided', 'chain', 'shot', 'th', 'anniversary', 'seattle', 'start', 'booked', 'suite', 'paid', 'extra', 'website', 'description', 'not', 'suite', 'bedroom', 'bathroom', 'standard', 'hotel', 'room', 'took', 'printed', 'reservation', 'desk', 'showed', 'said', 'things', 'like', 'tv', 'couch', 'ect', 'desk', 'clerk', 'told', 'oh', 'mixed', 'suites', 'description', 'kimpton', 'website', 'sorry', 'free', 'breakfast', 'got', 'kidding', 'embassy', 'suits', 'sitting', 'room', 'bathroom', 'bedroom', 'unlike', 'kimpton', 'calls', 'suite', 'day', 'stay', 'offer', 'correct', 'false', 'advertising', 'send', 'kimpton', 'preferred', 'guest', 'website', 'email', 'asking', 'failure', 'provide', 'suite', 'advertised', 'website', 'reservation', 'description', 'furnished', 'hard', 'copy', 'reservation', 'printout', 'website', 'desk', 'manager', 'duty', 'reply', 'solution', 'send', 'email', 'trip', 'guest', 'survey', 'follow', 'email', 'mail', 'guess', 'tell', 'concerned', 'guest', 'the', 'staff', 'ranged', 'indifferent', 'helpful', 'asked', 'desk', 'good', 'breakfast', 'spots', 'neighborhood', 'hood', 'told', 'hotels', 'gee', 'best', 'breakfast', 'spots', 'seattle', 'block', 'away', 'convenient', 'hotel', 'know', 'exist', 'arrived', 'late', 'night', 'pm', 'inside', 'run', 'bellman', 'busy', 'chating', 'cell', 'phone', 'help', 'bags', 'prior', 'arrival', 'emailed', 'hotel', 'inform', 'th', 'anniversary', 'half', 'picky', 'wanted', 'sure', 'good', 'got', 'nice', 'email', 'saying', 'like', 'deliver', 'bottle', 'champagne', 'chocolate', 'covered', 'strawberries', 'room', 'arrival', 'celebrate', 'told', 'needed', 'foam', 'pillows', 'arrival', 'champagne', 'strawberries', 'foam', 'pillows', 'great', 'room', 'view', 'alley', 'high', 'rise', 'building', 'good', 'better', 'housekeeping', 'staff', 'cleaner', 'room', 'property', 'impressed', 'left', 'morning', 'shopping', 'room', 'got', 'short', 'trips', 'hours', 'beds', 'comfortable', 'not', 'good', 'ac', 'heat', 'control', 'inch', 'screen', 'bring', 'green', 'shine', 'directly', 'eyes', 'night', 'light', 'sensitive', 'tape', 'controls', 'this', 'start', 'hotel', 'clean', 'business', 'hotel', 'super', 'high', 'rates', 'better', 'chain', 'hotels', 'seattle']\n",
      "\n",
      "Coded :   [   0    0    0    0    0    0    0    0    0    0    0    0    0    0\n",
      "    0    0    0    0    0    0    0    0    0    0    0    0    0    0\n",
      "    0    0    0    0    0    0    0    0    0    0    0    0    0    0\n",
      "    0    0    0    0    0    0    0    0    0    0    0    0    0    0\n",
      "    0    0    0    0    0    0    0    0    0    0    0    0  130  253\n",
      "  316 1582  857  481  344  945 2994   82  866  508  359   59  160  209\n",
      "  186  374 3159  375  160  413   37  250    1    2   85 2971  339   47\n",
      " 1015  114  124   19  169 1901 3929   47 1195  105  725 1053  504 3159\n",
      " 3566  374 1223   53   16   29 4363 2031 3236  603    2   37  413 1368\n",
      " 3566 1058  160   15    6  373 1767 4354 5395 1315 3566 1395  387  374\n",
      "  941  852    0  745  160 1716  374  339 3159 1076  188 3376  339 6947\n",
      "  374   47  312 1640 3853 4344 1315  941   39  387 7285 2187  941 1619\n",
      "  593  399 1109  387   22    5 4533 3258   33  120   47    4   16 1351\n",
      "  784    0  105   54    0   32   16 1351  508  324   57  275    1  113\n",
      " 4032   92  222   12  175  547  381 1824  301    0 2327  416  214  431\n",
      "  825  297 2276    1 4458   82  866  343 1086  146  102    4   29    7\n",
      "  941  762   19 2798  471  737  946 1201 3635    2  297 1963  105  248\n",
      " 5404  536  297  737 3635 5404  536    3    2   43 2201  185 3135  196\n",
      "    4   55  466    5 2339    2  260  444  110   73  168    2   29  206\n",
      "  728  182  100   46  375    4 1078 1040 1418 3097  670  245 1166 5995\n",
      "  515 2274   12  346 3083 8481 3892  685  359    1   17  202    1  538\n",
      "  185  806   55  945   54  508]\n"
     ]
    }
   ],
   "source": [
    "# Once we have the index_to_key, we can construct the word_index and also use it to code the sentences.\n",
    "# the coded sentences are then made into a fixed size using pad_sequences\n",
    "from keras_preprocessing.sequence import pad_sequences\n",
    "\n",
    "word_index = {w: i+1 for i,w in enumerate(index_to_key) if i < max_words-1}  # Keep just max_words (zero is reserved for unknown)\n",
    "\n",
    "sequences = [[word_index.get(w, 0) for w in sent] for sent in reviews] # code the sentences\n",
    "\n",
    "seqs_truncated = pad_sequences(sequences, maxlen=max_review_length, padding=\"pre\", truncating=\"post\")\n",
    "\n",
    "print(\"Line 1 :\", reviews[1])\n",
    "print(\"\\nCoded :  \" , seqs_truncated[1])"
   ]
  },
  {
   "cell_type": "code",
   "execution_count": 12,
   "metadata": {},
   "outputs": [
    {
     "name": "stdout",
     "output_type": "stream",
     "text": [
      "Vocabulary size: 10000\n",
      "Max length of sentence: 300\n"
     ]
    }
   ],
   "source": [
    "max_length = max([len(x) for x in seqs_truncated])\n",
    "vocab_size = len(word_index)+1 #add 1 to account for unknown word\n",
    "print(\"Vocabulary size: {}\".format(vocab_size))\n",
    "print(\"Max length of sentence: {}\".format(max_length))"
   ]
  },
  {
   "cell_type": "code",
   "execution_count": 13,
   "metadata": {},
   "outputs": [
    {
     "name": "stdout",
     "output_type": "stream",
     "text": [
      "Shape of data =  (20491, 300)\n",
      "Shape of Lables =  (20491, 5)\n"
     ]
    }
   ],
   "source": [
    "# Create fixed size sequences\n",
    "import numpy as np\n",
    "\n",
    "data = pad_sequences(seqs_truncated , maxlen = max_length)\n",
    "\n",
    "ratings = np.asarray(ratings)\n",
    "print( 'Shape of data = ' , data.shape)\n",
    "print( 'Shape of Lables = ' ,  ratings.shape)\n"
   ]
  },
  {
   "cell_type": "markdown",
   "metadata": {},
   "source": [
    "## Below function creates the training, testing and validation sets:"
   ]
  },
  {
   "cell_type": "markdown",
   "metadata": {},
   "source": [
    "As most the ratings are 5-star ratings and the least are 1-star ratings. Thus stratifing the dataset ensure that the distribution of all the classes is even between the train, validation, and test set."
   ]
  },
  {
   "cell_type": "code",
   "execution_count": 14,
   "metadata": {},
   "outputs": [
    {
     "name": "stdout",
     "output_type": "stream",
     "text": [
      "x_train size =  18441\n",
      "x_val size =  2050\n",
      "y_train size =  18441\n",
      "y_val size =  2050\n"
     ]
    }
   ],
   "source": [
    "\n",
    "from sklearn.model_selection import train_test_split\n",
    " \n",
    "def create_training_validation_sets(data,labels,test_size):\n",
    "\n",
    "    x_train, x_val, y_train, y_val = train_test_split(data, labels, test_size= test_size , shuffle=True , random_state=42 , stratify = ratings )\n",
    "\n",
    "    return x_train, x_val, y_train, y_val\n",
    "\n",
    "\n",
    "\n",
    "x_train, x_val, y_train, y_val = create_training_validation_sets(data, ratings, 0.1)\n",
    "\n",
    "print( \"x_train size = \" , str( len(x_train)))\n",
    "print(\"x_val size = \" , str(len( x_val)))\n",
    "print(\"y_train size = \" , str(len( y_train )))\n",
    "print( \"y_val size = \" , str(len( y_val )))"
   ]
  },
  {
   "cell_type": "markdown",
   "metadata": {},
   "source": [
    "# 6. Define a function for creating the embedding matrix"
   ]
  },
  {
   "cell_type": "code",
   "execution_count": 15,
   "metadata": {},
   "outputs": [],
   "source": [
    "# Function returns wv_matrix ready for a Keras Embeddings layer.  wv is the mapping from word to vector.\n",
    "def load_embeddings_into_wv(wv):\n",
    "    \n",
    "    wv_matrix = np.zeros((max_words, embedding_dim))\n",
    "    for word, i in word_index.items():\n",
    "        if i >= max_words:  \n",
    "            continue\n",
    "        try:\n",
    "            embedding_vector = wv[word]\n",
    "            wv_matrix[i] = embedding_vector\n",
    "        except:\n",
    "            pass    \n",
    "    return wv_matrix\n"
   ]
  },
  {
   "cell_type": "code",
   "execution_count": 16,
   "metadata": {},
   "outputs": [],
   "source": [
    "wv_matrix = load_embeddings_into_wv(model.wv)\n"
   ]
  },
  {
   "cell_type": "markdown",
   "metadata": {},
   "source": [
    "# 7.Define LSTM Network"
   ]
  },
  {
   "cell_type": "code",
   "execution_count": 17,
   "metadata": {},
   "outputs": [
    {
     "name": "stdout",
     "output_type": "stream",
     "text": [
      "Model: \"sequential\"\n",
      "_________________________________________________________________\n",
      " Layer (type)                Output Shape              Param #   \n",
      "=================================================================\n",
      " embedding (Embedding)       (None, 300, 100)          1000000   \n",
      "                                                                 \n",
      " bidirectional (Bidirectiona  (None, 128)              84480     \n",
      " l)                                                              \n",
      "                                                                 \n",
      " dropout (Dropout)           (None, 128)               0         \n",
      "                                                                 \n",
      " dense (Dense)               (None, 128)               16512     \n",
      "                                                                 \n",
      " dropout_1 (Dropout)         (None, 128)               0         \n",
      "                                                                 \n",
      " dense_1 (Dense)             (None, 64)                8256      \n",
      "                                                                 \n",
      " dropout_2 (Dropout)         (None, 64)                0         \n",
      "                                                                 \n",
      " dense_2 (Dense)             (None, 5)                 325       \n",
      "                                                                 \n",
      "=================================================================\n",
      "Total params: 1,109,573\n",
      "Trainable params: 109,573\n",
      "Non-trainable params: 1,000,000\n",
      "_________________________________________________________________\n"
     ]
    }
   ],
   "source": [
    "from tensorflow.keras.layers import Embedding, LSTM, Dense, Dropout, Bidirectional\n",
    "from tensorflow.keras.models import Sequential\n",
    "from tensorflow.keras.optimizers import Adam\n",
    "\n",
    "network_lstm = Sequential()\n",
    "network_lstm.add(Embedding(max_words, embedding_dim, input_length=max_length, weights=[wv_matrix], trainable=False))\n",
    "network_lstm.add(Bidirectional(LSTM(64)))\n",
    "network_lstm.add(Dropout(0.5))\n",
    "network_lstm.add(Dense(128, activation='relu'))\n",
    "network_lstm.add(Dropout(0.5))\n",
    "network_lstm.add(Dense(64, activation='relu'))\n",
    "network_lstm.add(Dropout(0.5))\n",
    "network_lstm.add(Dense(5 , activation = 'softmax'))\n",
    "network_lstm.summary()\n"
   ]
  },
  {
   "cell_type": "code",
   "execution_count": 18,
   "metadata": {},
   "outputs": [
    {
     "name": "stdout",
     "output_type": "stream",
     "text": [
      "Epoch 1/20\n",
      "577/577 [==============================] - 127s 212ms/step - loss: 0.1289 - acc: 0.4605 - val_loss: 0.1106 - val_acc: 0.5312\n",
      "Epoch 2/20\n",
      "577/577 [==============================] - 117s 203ms/step - loss: 0.1142 - acc: 0.5430 - val_loss: 0.1052 - val_acc: 0.5766\n",
      "Epoch 3/20\n",
      "577/577 [==============================] - 124s 214ms/step - loss: 0.1072 - acc: 0.5818 - val_loss: 0.1030 - val_acc: 0.6141\n",
      "Epoch 4/20\n",
      "577/577 [==============================] - 128s 221ms/step - loss: 0.1042 - acc: 0.5924 - val_loss: 0.0977 - val_acc: 0.6234\n",
      "Epoch 5/20\n",
      "577/577 [==============================] - 122s 212ms/step - loss: 0.1016 - acc: 0.6117 - val_loss: 0.1004 - val_acc: 0.6049\n",
      "Epoch 6/20\n",
      "577/577 [==============================] - 90s 157ms/step - loss: 0.0997 - acc: 0.6191 - val_loss: 0.0980 - val_acc: 0.6176\n",
      "Epoch 7/20\n",
      "577/577 [==============================] - 88s 153ms/step - loss: 0.0978 - acc: 0.6266 - val_loss: 0.0959 - val_acc: 0.6312\n",
      "Epoch 8/20\n",
      "577/577 [==============================] - 88s 152ms/step - loss: 0.0949 - acc: 0.6456 - val_loss: 0.0958 - val_acc: 0.6337\n",
      "Epoch 9/20\n",
      "577/577 [==============================] - 89s 154ms/step - loss: 0.0943 - acc: 0.6476 - val_loss: 0.0954 - val_acc: 0.6293\n",
      "Epoch 10/20\n",
      "577/577 [==============================] - 88s 152ms/step - loss: 0.0920 - acc: 0.6588 - val_loss: 0.0946 - val_acc: 0.6415\n",
      "Epoch 11/20\n",
      "577/577 [==============================] - 89s 153ms/step - loss: 0.0913 - acc: 0.6631 - val_loss: 0.0951 - val_acc: 0.6224\n",
      "Epoch 12/20\n",
      "577/577 [==============================] - 89s 155ms/step - loss: 0.0894 - acc: 0.6689 - val_loss: 0.0948 - val_acc: 0.6400\n",
      "Epoch 13/20\n",
      "577/577 [==============================] - 92s 159ms/step - loss: 0.0884 - acc: 0.6778 - val_loss: 0.0928 - val_acc: 0.6400\n",
      "Epoch 14/20\n",
      "577/577 [==============================] - 89s 155ms/step - loss: 0.0864 - acc: 0.6893 - val_loss: 0.0926 - val_acc: 0.6400\n",
      "Epoch 15/20\n",
      "577/577 [==============================] - 91s 158ms/step - loss: 0.0851 - acc: 0.6933 - val_loss: 0.0956 - val_acc: 0.6283\n",
      "Epoch 16/20\n",
      "577/577 [==============================] - 91s 158ms/step - loss: 0.0832 - acc: 0.7019 - val_loss: 0.0960 - val_acc: 0.6366\n",
      "Epoch 17/20\n",
      "577/577 [==============================] - 90s 156ms/step - loss: 0.0825 - acc: 0.7033 - val_loss: 0.0968 - val_acc: 0.6341\n",
      "Epoch 18/20\n",
      "577/577 [==============================] - 90s 155ms/step - loss: 0.0809 - acc: 0.7131 - val_loss: 0.0975 - val_acc: 0.6385\n",
      "Epoch 19/20\n",
      "577/577 [==============================] - 90s 156ms/step - loss: 0.0793 - acc: 0.7187 - val_loss: 0.0968 - val_acc: 0.6327\n",
      "Epoch 20/20\n",
      "577/577 [==============================] - 91s 157ms/step - loss: 0.0783 - acc: 0.7240 - val_loss: 0.0986 - val_acc: 0.6346\n"
     ]
    }
   ],
   "source": [
    "network_lstm.compile(optimizer= 'Adam' , loss= 'mse' , metrics= ['acc'])\n",
    "hist_lstm = network_lstm.fit( x_train , y_train , epochs= 20 , batch_size= 32 , validation_data= (x_val,y_val))"
   ]
  },
  {
   "cell_type": "code",
   "execution_count": 19,
   "metadata": {},
   "outputs": [
    {
     "name": "stderr",
     "output_type": "stream",
     "text": [
      "WARNING:absl:Found untraced functions such as lstm_cell_1_layer_call_fn, lstm_cell_1_layer_call_and_return_conditional_losses, lstm_cell_2_layer_call_fn, lstm_cell_2_layer_call_and_return_conditional_losses while saving (showing 4 of 4). These functions will not be directly callable after loading.\n"
     ]
    },
    {
     "name": "stdout",
     "output_type": "stream",
     "text": [
      "INFO:tensorflow:Assets written to: models/network_w2v_lstm\\assets\n"
     ]
    },
    {
     "name": "stderr",
     "output_type": "stream",
     "text": [
      "INFO:tensorflow:Assets written to: models/network_w2v_lstm\\assets\n"
     ]
    }
   ],
   "source": [
    "network_lstm.save('models/network_w2v_lstm')"
   ]
  },
  {
   "cell_type": "code",
   "execution_count": 20,
   "metadata": {},
   "outputs": [
    {
     "data": {
      "image/png": "[encoded data removed]",
      "text/plain": [
       "<Figure size 432x288 with 1 Axes>"
      ]
     },
     "metadata": {
      "needs_background": "light"
     },
     "output_type": "display_data"
    },
    {
     "data": {
      "image/png": "[encoded data removed]",
      "text/plain": [
       "<Figure size 432x288 with 1 Axes>"
      ]
     },
     "metadata": {
      "needs_background": "light"
     },
     "output_type": "display_data"
    }
   ],
   "source": [
    "acc_lstm = hist_lstm.history['acc']\n",
    "val_acc_lstm= hist_lstm.history['val_acc']\n",
    "\n",
    "epochs = range(1,len(acc_lstm)+1)\n",
    "\n",
    "plt.plot(epochs , val_acc_lstm ,'r' ,label= 'Val')\n",
    "\n",
    "plt.title(\"Word2Vec (Trainable=False) Accuracy using LSTM\")\n",
    "plt.plot(epochs , acc_lstm ,'b' ,label= 'Train')\n",
    "\n",
    "plt.legend()\n",
    "plt.show()\n",
    "\n",
    "\n",
    "loss_lstm = hist_lstm.history['loss']\n",
    "val_loss_lstm= hist_lstm.history['val_loss']\n",
    "\n",
    "epochs = range(1,len(loss_lstm)+1)\n",
    "\n",
    "plt.plot(epochs , val_loss_lstm ,'r' ,label= 'Val')\n",
    "\n",
    "plt.title(\"Word2Vec (Trainable=False) loss using LSTM\")\n",
    "plt.plot(epochs , loss_lstm ,'b' ,label= 'Train')\n",
    "\n",
    "\n",
    "plt.legend()\n",
    "plt.show()"
   ]
  },
  {
   "cell_type": "markdown",
   "metadata": {},
   "source": [
    "# 8. Define LSTM for W2V (trainable=True)"
   ]
  },
  {
   "cell_type": "code",
   "execution_count": 19,
   "metadata": {},
   "outputs": [
    {
     "name": "stdout",
     "output_type": "stream",
     "text": [
      "Model: \"sequential\"\n",
      "_________________________________________________________________\n",
      " Layer (type)                Output Shape              Param #   \n",
      "=================================================================\n",
      " embedding (Embedding)       (None, 300, 100)          1000000   \n",
      "                                                                 \n",
      " bidirectional (Bidirectiona  (None, 128)              84480     \n",
      " l)                                                              \n",
      "                                                                 \n",
      " dropout (Dropout)           (None, 128)               0         \n",
      "                                                                 \n",
      " dense (Dense)               (None, 128)               16512     \n",
      "                                                                 \n",
      " dropout_1 (Dropout)         (None, 128)               0         \n",
      "                                                                 \n",
      " dense_1 (Dense)             (None, 64)                8256      \n",
      "                                                                 \n",
      " dropout_2 (Dropout)         (None, 64)                0         \n",
      "                                                                 \n",
      " dense_2 (Dense)             (None, 5)                 325       \n",
      "                                                                 \n",
      "=================================================================\n",
      "Total params: 1,109,573\n",
      "Trainable params: 1,109,573\n",
      "Non-trainable params: 0\n",
      "_________________________________________________________________\n"
     ]
    }
   ],
   "source": [
    "\n",
    "network_lstm_trainable = Sequential()\n",
    "network_lstm_trainable.add(Embedding(max_words, embedding_dim, input_length=max_length, weights=[wv_matrix], trainable=True))\n",
    "network_lstm_trainable.add(Bidirectional(LSTM(64)))\n",
    "network_lstm_trainable.add(Dropout(0.5))\n",
    "network_lstm_trainable.add(Dense(128, activation='relu'))\n",
    "network_lstm_trainable.add(Dropout(0.5))\n",
    "network_lstm_trainable.add(Dense(64, activation='relu'))\n",
    "network_lstm_trainable.add(Dropout(0.5))\n",
    "network_lstm_trainable.add(Dense(5 , activation = 'softmax'))\n",
    "network_lstm_trainable.summary()\n"
   ]
  },
  {
   "cell_type": "code",
   "execution_count": 20,
   "metadata": {},
   "outputs": [
    {
     "name": "stdout",
     "output_type": "stream",
     "text": [
      "Epoch 1/20\n",
      "577/577 [==============================] - 144s 243ms/step - loss: 0.1287 - acc: 0.4701 - val_loss: 0.1318 - val_acc: 0.4180\n",
      "Epoch 2/20\n",
      "577/577 [==============================] - 108s 187ms/step - loss: 0.1135 - acc: 0.5435 - val_loss: 0.1070 - val_acc: 0.5707\n",
      "Epoch 3/20\n",
      "577/577 [==============================] - 105s 181ms/step - loss: 0.1088 - acc: 0.5700 - val_loss: 0.1012 - val_acc: 0.6015\n",
      "Epoch 4/20\n",
      "577/577 [==============================] - 109s 190ms/step - loss: 0.1002 - acc: 0.6153 - val_loss: 0.0992 - val_acc: 0.6102\n",
      "Epoch 5/20\n",
      "577/577 [==============================] - 108s 187ms/step - loss: 0.0935 - acc: 0.6534 - val_loss: 0.0950 - val_acc: 0.6224\n",
      "Epoch 6/20\n",
      "577/577 [==============================] - 102s 178ms/step - loss: 0.0885 - acc: 0.6741 - val_loss: 0.0956 - val_acc: 0.6278\n",
      "Epoch 7/20\n",
      "577/577 [==============================] - 94s 163ms/step - loss: 0.0816 - acc: 0.7085 - val_loss: 0.0983 - val_acc: 0.6288\n",
      "Epoch 8/20\n",
      "577/577 [==============================] - 96s 166ms/step - loss: 0.0742 - acc: 0.7414 - val_loss: 0.1006 - val_acc: 0.6283\n",
      "Epoch 9/20\n",
      "577/577 [==============================] - 96s 167ms/step - loss: 0.0715 - acc: 0.7495 - val_loss: 0.1073 - val_acc: 0.6288\n",
      "Epoch 10/20\n",
      "577/577 [==============================] - 97s 169ms/step - loss: 0.0631 - acc: 0.7882 - val_loss: 0.1122 - val_acc: 0.6190\n",
      "Epoch 11/20\n",
      "577/577 [==============================] - 94s 163ms/step - loss: 0.0573 - acc: 0.8109 - val_loss: 0.1140 - val_acc: 0.6224\n",
      "Epoch 12/20\n",
      "577/577 [==============================] - 94s 164ms/step - loss: 0.0515 - acc: 0.8353 - val_loss: 0.1241 - val_acc: 0.6102\n",
      "Epoch 13/20\n",
      "577/577 [==============================] - 96s 167ms/step - loss: 0.0487 - acc: 0.8462 - val_loss: 0.1218 - val_acc: 0.6176\n",
      "Epoch 14/20\n",
      "577/577 [==============================] - 92s 159ms/step - loss: 0.0430 - acc: 0.8694 - val_loss: 0.1246 - val_acc: 0.6156\n",
      "Epoch 15/20\n",
      "577/577 [==============================] - 91s 158ms/step - loss: 0.0410 - acc: 0.8761 - val_loss: 0.1309 - val_acc: 0.6093\n",
      "Epoch 16/20\n",
      "577/577 [==============================] - 90s 157ms/step - loss: 0.0370 - acc: 0.8895 - val_loss: 0.1352 - val_acc: 0.6029\n",
      "Epoch 17/20\n",
      "577/577 [==============================] - 94s 164ms/step - loss: 0.0369 - acc: 0.8902 - val_loss: 0.1320 - val_acc: 0.6073\n",
      "Epoch 18/20\n",
      "577/577 [==============================] - 98s 170ms/step - loss: 0.0335 - acc: 0.9019 - val_loss: 0.1400 - val_acc: 0.5922\n",
      "Epoch 19/20\n",
      "577/577 [==============================] - 98s 170ms/step - loss: 0.0299 - acc: 0.9131 - val_loss: 0.1465 - val_acc: 0.5937\n",
      "Epoch 20/20\n",
      "577/577 [==============================] - 99s 172ms/step - loss: 0.0282 - acc: 0.9206 - val_loss: 0.1444 - val_acc: 0.6034\n"
     ]
    }
   ],
   "source": [
    "network_lstm_trainable.compile(optimizer= 'Adam' , loss= 'mse' , metrics= ['acc'])\n",
    "hist_lstm_trainable = network_lstm_trainable.fit( x_train , y_train , epochs= 20 , batch_size= 32 , validation_data= (x_val,y_val))"
   ]
  },
  {
   "cell_type": "code",
   "execution_count": 22,
   "metadata": {},
   "outputs": [
    {
     "name": "stderr",
     "output_type": "stream",
     "text": [
      "WARNING:absl:Found untraced functions such as lstm_cell_1_layer_call_fn, lstm_cell_1_layer_call_and_return_conditional_losses, lstm_cell_2_layer_call_fn, lstm_cell_2_layer_call_and_return_conditional_losses while saving (showing 4 of 4). These functions will not be directly callable after loading.\n"
     ]
    },
    {
     "name": "stdout",
     "output_type": "stream",
     "text": [
      "INFO:tensorflow:Assets written to: models/network_lstm_trainable\\assets\n"
     ]
    },
    {
     "name": "stderr",
     "output_type": "stream",
     "text": [
      "INFO:tensorflow:Assets written to: models/network_lstm_trainable\\assets\n"
     ]
    }
   ],
   "source": [
    "network_lstm_trainable.save('models/network_lstm_trainable')"
   ]
  },
  {
   "cell_type": "code",
   "execution_count": 23,
   "metadata": {},
   "outputs": [
    {
     "data": {
      "image/png": "[encoded data removed]",
      "text/plain": [
       "<Figure size 432x288 with 1 Axes>"
      ]
     },
     "metadata": {
      "needs_background": "light"
     },
     "output_type": "display_data"
    },
    {
     "data": {
      "image/png": "[encoded data removed]",
      "text/plain": [
       "<Figure size 432x288 with 1 Axes>"
      ]
     },
     "metadata": {
      "needs_background": "light"
     },
     "output_type": "display_data"
    }
   ],
   "source": [
    "acc_lstm_trainable = hist_lstm_trainable.history['acc']\n",
    "val_acc_lstm_trainable = hist_lstm_trainable.history['val_acc']\n",
    "\n",
    "\n",
    "epochs = range(1,len(acc_lstm_trainable)+1)\n",
    "\n",
    "plt.plot(epochs , val_acc_lstm_trainable ,'r' ,label= 'Val')\n",
    "\n",
    "\n",
    "plt.title(\"Word2Vec (Trainalbe=True) Accuracy using LSTM\")\n",
    "plt.plot(epochs , acc_lstm_trainable ,'b' ,label= 'Train')\n",
    "\n",
    "plt.legend()\n",
    "plt.show()\n",
    "\n",
    "loss_lstm_trainable = hist_lstm_trainable.history['loss']\n",
    "val_loss_lstm_trainable= hist_lstm_trainable.history['val_loss']\n",
    "\n",
    "epochs = range(1,len(loss_lstm_trainable)+1)\n",
    "\n",
    "plt.plot(epochs , val_loss_lstm_trainable ,'r' ,label= 'Val')\n",
    "\n",
    "plt.title(\"Word2Vec (Trainalbe=True) loss using LSTM\")\n",
    "plt.plot(epochs , loss_lstm_trainable ,'b' ,label= 'Train')\n",
    "\n",
    "plt.legend()\n",
    "plt.show()"
   ]
  },
  {
   "cell_type": "markdown",
   "metadata": {},
   "source": [
    "# 5. Define a Network"
   ]
  },
  {
   "cell_type": "code",
   "execution_count": 17,
   "metadata": {},
   "outputs": [
    {
     "name": "stdout",
     "output_type": "stream",
     "text": [
      "Model: \"sequential_1\"\n",
      "_________________________________________________________________\n",
      "Layer (type)                 Output Shape              Param #   \n",
      "=================================================================\n",
      "embedding_1 (Embedding)      (None, 300, 100)          1000000   \n",
      "_________________________________________________________________\n",
      "flatten_1 (Flatten)          (None, 30000)             0         \n",
      "_________________________________________________________________\n",
      "dense_1 (Dense)              (None, 32)                960032    \n",
      "_________________________________________________________________\n",
      "dense_2 (Dense)              (None, 5)                 165       \n",
      "=================================================================\n",
      "Total params: 1,960,197\n",
      "Trainable params: 960,197\n",
      "Non-trainable params: 1,000,000\n",
      "_________________________________________________________________\n"
     ]
    }
   ],
   "source": [
    "from keras.models import Sequential\n",
    "from keras.layers import Embedding, Flatten , Dense\n",
    "\n",
    "network = Sequential()\n",
    "network.add(Embedding(max_words , embedding_dim , input_length =  max_length, weights=[wv_matrix] , trainable = False))\n",
    "network.add(Flatten())\n",
    "network.add(Dense(32 , activation = 'relu'))\n",
    "network.add(Dense(5 , activation = 'softmax'))\n",
    "network.summary()"
   ]
  },
  {
   "cell_type": "code",
   "execution_count": 18,
   "metadata": {},
   "outputs": [
    {
     "name": "stdout",
     "output_type": "stream",
     "text": [
      "Train on 18441 samples, validate on 2050 samples\n",
      "Epoch 1/20\n",
      "18441/18441 [==============================] - 8s 429us/step - loss: 0.3737 - acc: 0.8291 - val_loss: 0.3489 - val_acc: 0.8384\n",
      "Epoch 2/20\n",
      "18441/18441 [==============================] - 7s 402us/step - loss: 0.2957 - acc: 0.8595 - val_loss: 0.3642 - val_acc: 0.8289\n",
      "Epoch 3/20\n",
      "18441/18441 [==============================] - 8s 410us/step - loss: 0.2308 - acc: 0.8934 - val_loss: 0.4156 - val_acc: 0.8212\n",
      "Epoch 4/20\n",
      "18441/18441 [==============================] - 7s 402us/step - loss: 0.1707 - acc: 0.9265 - val_loss: 0.5060 - val_acc: 0.8158\n",
      "Epoch 5/20\n",
      "18441/18441 [==============================] - 8s 430us/step - loss: 0.1221 - acc: 0.9503 - val_loss: 0.6105 - val_acc: 0.8041\n",
      "Epoch 6/20\n",
      "18441/18441 [==============================] - 8s 413us/step - loss: 0.0837 - acc: 0.9671 - val_loss: 0.7648 - val_acc: 0.8039\n",
      "Epoch 7/20\n",
      "18441/18441 [==============================] - 7s 405us/step - loss: 0.0566 - acc: 0.9792 - val_loss: 0.8903 - val_acc: 0.7965\n",
      "Epoch 8/20\n",
      "18441/18441 [==============================] - 7s 401us/step - loss: 0.0395 - acc: 0.9861 - val_loss: 0.9674 - val_acc: 0.8009\n",
      "Epoch 9/20\n",
      "18441/18441 [==============================] - 7s 396us/step - loss: 0.0288 - acc: 0.9902 - val_loss: 1.0987 - val_acc: 0.8004\n",
      "Epoch 10/20\n",
      "18441/18441 [==============================] - 8s 417us/step - loss: 0.0218 - acc: 0.9931 - val_loss: 1.1801 - val_acc: 0.7982\n",
      "Epoch 11/20\n",
      "18441/18441 [==============================] - 8s 421us/step - loss: 0.0158 - acc: 0.9946 - val_loss: 1.2815 - val_acc: 0.7958\n",
      "Epoch 12/20\n",
      "18441/18441 [==============================] - 8s 440us/step - loss: 0.0121 - acc: 0.9962 - val_loss: 1.3759 - val_acc: 0.8007\n",
      "Epoch 13/20\n",
      "18441/18441 [==============================] - 8s 441us/step - loss: 0.0107 - acc: 0.9962 - val_loss: 1.3765 - val_acc: 0.8001\n",
      "Epoch 14/20\n",
      "18441/18441 [==============================] - 8s 408us/step - loss: 0.0095 - acc: 0.9970 - val_loss: 1.4600 - val_acc: 0.7976\n",
      "Epoch 15/20\n",
      "18441/18441 [==============================] - 7s 400us/step - loss: 0.0075 - acc: 0.9975 - val_loss: 1.5363 - val_acc: 0.8001\n",
      "Epoch 16/20\n",
      "18441/18441 [==============================] - 7s 400us/step - loss: 0.0073 - acc: 0.9977 - val_loss: 1.5591 - val_acc: 0.8005\n",
      "Epoch 17/20\n",
      "18441/18441 [==============================] - 8s 418us/step - loss: 0.0071 - acc: 0.9979 - val_loss: 1.6397 - val_acc: 0.7993\n",
      "Epoch 18/20\n",
      "18441/18441 [==============================] - 7s 402us/step - loss: 0.0074 - acc: 0.9981 - val_loss: 1.7091 - val_acc: 0.8014\n",
      "Epoch 19/20\n",
      "18441/18441 [==============================] - 8s 410us/step - loss: 0.0062 - acc: 0.9983 - val_loss: 1.7129 - val_acc: 0.8023\n",
      "Epoch 20/20\n",
      "18441/18441 [==============================] - 7s 397us/step - loss: 0.0061 - acc: 0.9984 - val_loss: 1.7800 - val_acc: 0.7981\n"
     ]
    }
   ],
   "source": [
    "network.compile(optimizer= 'rmsprop' , loss= 'binary_crossentropy' , metrics= ['acc'])\n",
    "hist = network.fit( x_train , y_train , epochs= 20 , batch_size= 32 , validation_data= (x_val,y_val))"
   ]
  },
  {
   "cell_type": "code",
   "execution_count": 19,
   "metadata": {},
   "outputs": [
    {
     "data": {
      "image/png": "[encoded data removed]",
      "text/plain": [
       "<Figure size 432x288 with 1 Axes>"
      ]
     },
     "metadata": {
      "needs_background": "light"
     },
     "output_type": "display_data"
    },
    {
     "data": {
      "image/png": "[encoded data removed]",
      "text/plain": [
       "<Figure size 432x288 with 1 Axes>"
      ]
     },
     "metadata": {
      "needs_background": "light"
     },
     "output_type": "display_data"
    }
   ],
   "source": [
    "import matplotlib.pyplot as plt\n",
    "\n",
    "\n",
    "acc= hist.history['acc']\n",
    "val_acc= hist.history['val_acc']\n",
    "\n",
    "# acc = hist['acc']\n",
    "# val_acc= hist.history['val_acc']\n",
    "\n",
    "epochs = range(1,len(acc)+1)\n",
    "\n",
    "plt.plot(epochs , val_acc ,'r' ,label= 'Val')\n",
    "# plt.plot(epochs , val_acc, 'b', label= 'Without Glove')\n",
    "\n",
    "# plt.legend()\n",
    "# plt.show()\n",
    "\n",
    "plt.title(\"Word2Vec (Trainable=False) Accuracy\")\n",
    "plt.plot(epochs , acc ,'b' ,label= 'Train')\n",
    "# plt.plot(epochs , acc, 'b', label= 'Without Glove')\n",
    "\n",
    "plt.legend()\n",
    "plt.show()\n",
    "\n",
    "\n",
    "\n",
    "loss = hist.history['loss']\n",
    "val_loss= hist.history['val_loss']\n",
    "\n",
    "# loss = hist['loss']\n",
    "# val_loss= hist.history['val_loss']\n",
    "\n",
    "epochs = range(1,len(loss)+1)\n",
    "\n",
    "plt.plot(epochs , val_loss ,'r' ,label= 'Val')\n",
    "# plt.plot(epochs , val_loss, 'b', label= 'Without Glove')\n",
    "\n",
    "# plt.legend()\n",
    "# plt.show()\n",
    "\n",
    "plt.title(\"Word2Vec (Trainable=False) loss\")\n",
    "plt.plot(epochs , loss ,'b' ,label= 'Train')\n",
    "# plt.plot(epochs , loss, 'b', label= 'Without Glove')\n",
    "\n",
    "plt.legend()\n",
    "plt.show()\n"
   ]
  },
  {
   "cell_type": "code",
   "execution_count": null,
   "metadata": {},
   "outputs": [],
   "source": []
  }
 ],
 "metadata": {
  "interpreter": {
   "hash": "fb964b1322ee465cef9245a06bdf6ecf0a0d64b7d910a69eea7eea19eaa3ebdc"
  },
  "kernelspec": {
   "display_name": "Python 3.6.2 ('deepLearning_env')",
   "language": "python",
   "name": "python3"
  },
  "language_info": {
   "codemirror_mode": {
    "name": "ipython",
    "version": 3
   },
   "file_extension": ".py",
   "mimetype": "text/x-python",
   "name": "python",
   "nbconvert_exporter": "python",
   "pygments_lexer": "ipython3",
   "version": "3.6.2"
  }
 },
 "nbformat": 4,
 "nbformat_minor": 4
}
