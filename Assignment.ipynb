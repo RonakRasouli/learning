{
 "cells": [
  {
   "cell_type": "markdown",
   "metadata": {},
   "source": [
    "# Illustrate the Embedding Layer and GloVe on Trip Advisor Review Dataset"
   ]
  },
  {
   "cell_type": "code",
   "execution_count": 1,
   "metadata": {},
   "outputs": [],
   "source": [
    "import pandas as pd\n",
    "import os\n",
    "import gzip\n",
    "import numpy as np\n",
    "import matplotlib.pyplot as plt\n",
    "pd.set_option('max_colwidth', 100)\n",
    "import gensim\n",
    "from gensim.models import KeyedVectors\n",
    "from gensim.parsing.preprocessing import remove_stopwords\n",
    "from keras.utils import to_categorical\n"
   ]
  },
  {
   "cell_type": "code",
   "execution_count": 2,
   "metadata": {},
   "outputs": [
    {
     "name": "stdout",
     "output_type": "stream",
     "text": [
      "gensim version is 4.2.0\n",
      "Note you need to update gensim using pip install -U gensum\n"
     ]
    }
   ],
   "source": [
    " # Note you should have 4.1.2\n",
    "print(\"gensim version is\",gensim.__version__ )\n",
    "if gensim.__version__ != '4.1.2':\n",
    "    print (\"Note you need to update gensim using pip install -U gensum\")"
   ]
  },
  {
   "cell_type": "markdown",
   "metadata": {},
   "source": [
    "# 1. Some constants "
   ]
  },
  {
   "cell_type": "code",
   "execution_count": 3,
   "metadata": {},
   "outputs": [],
   "source": [
    "max_review_length = 300 # no of words per review.  reviews will be  truncated or padded to be of this length.\n",
    "max_words = 10000        # this is the size of the index (i.e. most common top words that will be used as features)                       # note code assumes there are enough words in reviews.\n",
    "embedding_dim = 100    # size of embedding.\n",
    "\n",
    "traning_samples= 10000\n",
    "validation_samples = 6000"
   ]
  },
  {
   "cell_type": "markdown",
   "metadata": {},
   "source": [
    "# 2. Reading in the data"
   ]
  },
  {
   "cell_type": "code",
   "execution_count": 4,
   "metadata": {
    "scrolled": false
   },
   "outputs": [
    {
     "name": "stdout",
     "output_type": "stream",
     "text": [
      " tripadvisor_df shape:  (20491, 2)\n"
     ]
    },
    {
     "data": {
      "text/html": [
       "<div>\n",
       "<style scoped>\n",
       "    .dataframe tbody tr th:only-of-type {\n",
       "        vertical-align: middle;\n",
       "    }\n",
       "\n",
       "    .dataframe tbody tr th {\n",
       "        vertical-align: top;\n",
       "    }\n",
       "\n",
       "    .dataframe thead th {\n",
       "        text-align: right;\n",
       "    }\n",
       "</style>\n",
       "<table border=\"1\" class=\"dataframe\">\n",
       "  <thead>\n",
       "    <tr style=\"text-align: right;\">\n",
       "      <th></th>\n",
       "      <th>Review</th>\n",
       "      <th>Rating</th>\n",
       "    </tr>\n",
       "  </thead>\n",
       "  <tbody>\n",
       "    <tr>\n",
       "      <th>0</th>\n",
       "      <td>nice hotel expensive parking got good deal stay hotel anniversary, arrived late evening took adv...</td>\n",
       "      <td>4</td>\n",
       "    </tr>\n",
       "    <tr>\n",
       "      <th>1</th>\n",
       "      <td>ok nothing special charge diamond member hilton decided chain shot 20th anniversary seattle, sta...</td>\n",
       "      <td>2</td>\n",
       "    </tr>\n",
       "    <tr>\n",
       "      <th>2</th>\n",
       "      <td>nice rooms not 4* experience hotel monaco seattle good hotel n't 4* level.positives large bathro...</td>\n",
       "      <td>3</td>\n",
       "    </tr>\n",
       "    <tr>\n",
       "      <th>3</th>\n",
       "      <td>unique, great stay, wonderful time hotel monaco, location excellent short stroll main downtown s...</td>\n",
       "      <td>5</td>\n",
       "    </tr>\n",
       "    <tr>\n",
       "      <th>4</th>\n",
       "      <td>great stay great stay, went seahawk game awesome, downfall view building did n't complain, room ...</td>\n",
       "      <td>5</td>\n",
       "    </tr>\n",
       "  </tbody>\n",
       "</table>\n",
       "</div>"
      ],
      "text/plain": [
       "                                                                                                Review  \\\n",
       "0  nice hotel expensive parking got good deal stay hotel anniversary, arrived late evening took adv...   \n",
       "1  ok nothing special charge diamond member hilton decided chain shot 20th anniversary seattle, sta...   \n",
       "2  nice rooms not 4* experience hotel monaco seattle good hotel n't 4* level.positives large bathro...   \n",
       "3  unique, great stay, wonderful time hotel monaco, location excellent short stroll main downtown s...   \n",
       "4  great stay great stay, went seahawk game awesome, downfall view building did n't complain, room ...   \n",
       "\n",
       "   Rating  \n",
       "0       4  \n",
       "1       2  \n",
       "2       3  \n",
       "3       5  \n",
       "4       5  "
      ]
     },
     "execution_count": 4,
     "metadata": {},
     "output_type": "execute_result"
    }
   ],
   "source": [
    "import os\n",
    "data_dir = \"./data\"\n",
    "tripadvisor_df = pd.read_csv(os.path.join( data_dir, 'tripadvisor_hotel_reviews.csv.zip'))\n",
    "print(\" tripadvisor_df shape: \", tripadvisor_df.shape)\n",
    "tripadvisor_df.head()\n",
    "\n",
    "               "
   ]
  },
  {
   "cell_type": "markdown",
   "metadata": {},
   "source": [
    "# 3.Data Analysis and Visualisation"
   ]
  },
  {
   "cell_type": "code",
   "execution_count": 5,
   "metadata": {},
   "outputs": [
    {
     "data": {
      "text/plain": [
       "Text(0.5, 1.0, ' Class Distribution Tripadvisor Hotel Reviews  ')"
      ]
     },
     "execution_count": 5,
     "metadata": {},
     "output_type": "execute_result"
    },
    {
     "data": {
      "image/png": "[encoded data removed]",
      "text/plain": [
       "<Figure size 720x720 with 1 Axes>"
      ]
     },
     "metadata": {
      "needs_background": "light"
     },
     "output_type": "display_data"
    }
   ],
   "source": [
    "rating_counts = tripadvisor_df['Rating'].value_counts()\n",
    "\n",
    "plt.figure(figsize=(10,10))\n",
    "\n",
    "plt.bar( rating_counts.index , rating_counts.values , color=\"blue\")\n",
    "              \n",
    "plt.xlabel(\"Rating Classes\")\n",
    "plt.ylabel(\"Reviews\")\n",
    "plt.title(\" Class Distribution Tripadvisor Hotel Reviews  \")\n"
   ]
  },
  {
   "cell_type": "code",
   "execution_count": 6,
   "metadata": {},
   "outputs": [
    {
     "name": "stdout",
     "output_type": "stream",
     "text": [
      "poor value stayed monaco seattle july, nice hotel priced 100- 150 night not, hotel takes beating quotient, experience simply average, nothing exceptional paying 300+ n't ca n't terribly disappointed, wife stayed nicest suites 200/night felt like overpaying, best advice shop, quality-wise league average marriott nice best western,  \n"
     ]
    }
   ],
   "source": [
    "texts = tripadvisor_df['Review'].values\n",
    "print(texts[10])"
   ]
  },
  {
   "cell_type": "code",
   "execution_count": 7,
   "metadata": {},
   "outputs": [],
   "source": [
    "# Encode target variable Rating, into a one hot vector.\n",
    "\n",
    "encoding = {1: 0,\n",
    "            2: 1,\n",
    "            3: 2,\n",
    "            4: 3,\n",
    "            5: 4\n",
    "           }\n",
    "labels = ['1', '2', '3', '4', '5']\n",
    "\n",
    "ratings = tripadvisor_df['Rating'].copy()\n",
    "ratings.replace(encoding, inplace=True)\n",
    "ratings = to_categorical(ratings,5)"
   ]
  },
  {
   "cell_type": "code",
   "execution_count": 8,
   "metadata": {},
   "outputs": [
    {
     "name": "stdout",
     "output_type": "stream",
     "text": [
      " Found 52211 unique tokens\n",
      "Line 1 : ok nothing special charge diamond member hilton decided chain shot 20th anniversary seattle, start booked suite paid extra website description not, suite bedroom bathroom standard hotel room, took printed reservation desk showed said things like tv couch ect desk clerk told oh mixed suites description kimpton website sorry free breakfast, got kidding, embassy suits sitting room bathroom bedroom unlike kimpton calls suite, 5 day stay offer correct false advertising, send kimpton preferred guest website email asking failure provide suite advertised website reservation description furnished hard copy reservation printout website desk manager duty did not reply solution, send email trip guest survey did not follow email mail, guess tell concerned guest.the staff ranged indifferent not helpful, asked desk good breakfast spots neighborhood hood told no hotels, gee best breakfast spots seattle 1/2 block away convenient hotel does not know exist, arrived late night 11 pm inside run bellman busy chating cell phone help bags.prior arrival emailed hotel inform 20th anniversary half really picky wanted make sure good, got nice email saying like deliver bottle champagne chocolate covered strawberries room arrival celebrate, told needed foam pillows, arrival no champagne strawberries no foam pillows great room view alley high rise building good not better housekeeping staff cleaner room property, impressed left morning shopping room got short trips 2 hours, beds comfortable.not good ac-heat control 4 x 4 inch screen bring green shine directly eyes night, light sensitive tape controls.this not 4 start hotel clean business hotel super high rates, better chain hotels seattle,  \n",
      "\n",
      "Coded :   [11, 12, 3, 66, 85, 1, 4788, 536, 6, 1, 5, 66, 452, 2343, 75, 46, 3171, 178, 55, 49, 494, 1132, 1719, 8, 56, 4789, 1165, 43, 653, 8386, 1104, 290, 327, 208, 500, 9, 5, 786, 7115, 279, 1344, 188, 208, 111, 3106, 942, 3916, 178, 425, 5278, 370, 245, 3171, 178, 43, 17, 265, 8, 1096, 219, 401, 480, 1088, 1917, 637, 222, 961, 17, 742, 249, 2, 4, 3375, 450, 4364, 3676, 11, 94, 4148, 8, 1, 2299, 213, 16, 72, 8387, 316, 423, 959, 443, 322, 2472, 157, 1175, 2, 947, 30, 258, 9640, 450, 13, 311, 7116, 7809, 4431, 311, 9, 5, 8, 17, 36, 414, 275, 3471, 499, 773, 11, 3880, 647, 443, 2, 1285, 2, 185, 160, 315, 201, 2, 93, 188, 159, 67, 49, 8745, 378, 2473, 3106, 3916, 923, 931, 167, 88, 61, 137, 56, 58, 3995, 130, 8746, 30, 2261, 317, 139, 2110, 1032, 17, 1259, 616, 372, 285, 36, 2, 17, 13, 1096, 1512, 56, 230, 197, 247, 3995, 121, 968, 6742, 242, 4496, 1499, 663, 5, 190, 137, 8386, 2523, 88, 9, 5, 1366, 230, 338, 2432, 3376, 8386, 1419, 2523, 8386, 88, 8388, 3000, 28, 46, 361, 4, 2, 550, 2, 2060, 4364, 311, 450, 5, 311, 483, 4, 527, 47, 3676, 87]\n"
     ]
    }
   ],
   "source": [
    "# use the tokenizers to code the reviews\n",
    "\n",
    "from keras.preprocessing.text import Tokenizer\n",
    "#from keras.preprocessing.sequence import pad_sequences\n",
    "from keras_preprocessing.sequence import pad_sequences\n",
    "\n",
    "tokenizer = Tokenizer(num_words= max_words)\n",
    "tokenizer.fit_on_texts(texts)\n",
    "\n",
    "word_index = tokenizer.word_index\n",
    "print(f' Found {len(word_index)} unique tokens')\n",
    "\n",
    "sequences = tokenizer.texts_to_sequences(texts)\n",
    "\n",
    "print(\"Line 1 :\", texts[1])\n",
    "print(\"\\nCoded :  \" , sequences[2])\n"
   ]
  },
  {
   "cell_type": "code",
   "execution_count": 9,
   "metadata": {},
   "outputs": [
    {
     "name": "stdout",
     "output_type": "stream",
     "text": [
      "Vocabulary size: 52212\n",
      "Max length of sentence: 1894\n"
     ]
    }
   ],
   "source": [
    "max_length = max([len(x) for x in sequences])\n",
    "vocab_size = len(tokenizer.word_index)+1 #add 1 to account for unknown word\n",
    "print(\"Vocabulary size: {}\".format(vocab_size))\n",
    "print(\"Max length of sentence: {}\".format(max_length))"
   ]
  },
  {
   "cell_type": "code",
   "execution_count": 10,
   "metadata": {},
   "outputs": [
    {
     "name": "stdout",
     "output_type": "stream",
     "text": [
      "Shape of data =  (20491, 1894)\n",
      "Shape of Lables =  (20491, 5)\n"
     ]
    }
   ],
   "source": [
    "# Create fixed size sequences\n",
    "import numpy as np\n",
    "\n",
    "data = pad_sequences(sequences , maxlen = max_length)\n",
    "\n",
    "ratings = np.asarray(ratings)\n",
    "print( 'Shape of data = ' , data.shape)\n",
    "print( 'Shape of Lables = ' ,  ratings.shape)\n"
   ]
  },
  {
   "cell_type": "markdown",
   "metadata": {},
   "source": [
    "We can see that most ratings are 5-star ratings and the least are 1-star ratings. Thus we must take care to train our model on enough 1-star ratings. Thus while training the data, we must stratify our dataset our data. This will ensure that the distribution of all the classes is even between the train, validation, and test set. This will help prevent unknown classes from appearing in the validation or test set."
   ]
  },
  {
   "cell_type": "code",
   "execution_count": 11,
   "metadata": {},
   "outputs": [
    {
     "name": "stdout",
     "output_type": "stream",
     "text": [
      "x_train size =  18441\n",
      "x_val size =  2050\n",
      "y_train size =  18441\n",
      "y_val size =  2050\n"
     ]
    }
   ],
   "source": [
    "from sklearn.model_selection import train_test_split\n",
    " \n",
    "x_train, x_val, y_train, y_val = train_test_split(data, ratings, test_size= 0.1, shuffle=True , random_state=42 , stratify = ratings )\n",
    "print( \"x_train size = \" , str( len(x_train)))\n",
    "print(\"x_val size = \" , str(len( x_val)))\n",
    "print(\"y_train size = \" , str(len( y_train )))\n",
    "print( \"y_val size = \" , str(len( y_val )))"
   ]
  },
  {
   "cell_type": "markdown",
   "metadata": {},
   "source": [
    "# 4. Use GloVe embeddings"
   ]
  },
  {
   "cell_type": "code",
   "execution_count": 12,
   "metadata": {},
   "outputs": [
    {
     "name": "stdout",
     "output_type": "stream",
     "text": [
      "no of words in glove embeddings =  400000\n"
     ]
    }
   ],
   "source": [
    "glove_dir = './glove.6B'\n",
    "\n",
    "embeddings_index = {}\n",
    "\n",
    "f = open(os.path.join(glove_dir , 'glove.6B.100d.txt') , encoding= 'utf-8')\n",
    "for line in f:\n",
    "        values = line.split()\n",
    "        word = values[0]\n",
    "        coefs = np.asarray(values[1:] , dtype = 'float32')\n",
    "        embeddings_index[word] = coefs\n",
    "f.close()\n",
    "\n",
    "print('no of words in glove embeddings = ' , len(embeddings_index))\n"
   ]
  },
  {
   "cell_type": "code",
   "execution_count": 13,
   "metadata": {},
   "outputs": [
    {
     "name": "stdout",
     "output_type": "stream",
     "text": [
      "1:hotel \t--> [ 0.43044001 -0.71715999  0.13989     0.59311002 -0.16727     0.56128001]\n",
      "2:room \t--> [-0.024843    0.47766     0.32437    -0.054239   -0.47622001  1.10430002]\n",
      "3:not \t--> [-0.19103999  0.17601     0.36919999 -0.50322998 -0.47560999  0.15798   ]\n",
      "4:great \t--> [-0.013786    0.38216001  0.53236002  0.15261    -0.29694    -0.20558   ]\n",
      "5:n't \t--> [ 0.15730999  0.3953      0.63586003 -1.09749997 -0.95767999 -0.013841  ]\n",
      "6:good \t--> [-0.030769    0.11993     0.53908998 -0.43696001 -0.73936999 -0.15345   ]\n",
      "7:staff \t--> [-0.61250001 -0.29506999 -0.28917    -0.36431    -0.39695001  0.097624  ]\n",
      "8:stay \t--> [-0.41615999 -0.26538     0.21720999 -0.26014999 -0.18043999  0.38745001]\n",
      "9:did \t--> [ 0.30449    -0.19628     0.20225    -0.61686999 -0.68484002 -0.11887   ]\n",
      "10:just \t--> [ 0.075026    0.39324999  0.90314001 -0.30451    -0.32767999  0.59630001]\n"
     ]
    }
   ],
   "source": [
    "#look for word embeddings, limiting the vector to 100\n",
    "\n",
    "embeddings_matrix = np.zeros((max_words , embedding_dim))\n",
    "\n",
    "for word,i in word_index.items():\n",
    "    if i < max_words:\n",
    "        embedding_vector = embeddings_index.get(word)\n",
    "        if embedding_vector is not None:\n",
    "            embeddings_matrix[i] = embedding_vector\n",
    "\n",
    "# print some entities\n",
    "\n",
    "for word, i in word_index.items():\n",
    "    if i > 10 : break\n",
    "    print(f'{i}:{word} \\t--> {embeddings_matrix[i , 0:6]}')"
   ]
  },
  {
   "cell_type": "code",
   "execution_count": 14,
   "metadata": {},
   "outputs": [],
   "source": [
    "max_review_length = 300 # no of words per review.  reviews will be  truncated or padded to be of this length.\n",
    "max_words = 10000        # this is the size of the index (i.e. most common top words that will be used as features)                       # note code assumes there are enough words in reviews.\n",
    "embedding_dim = 100    # size of embedding.\n",
    "\n",
    "\n",
    "traning_samples= 10000\n",
    "validation_samples = 6000\n",
    "\n",
    "\n",
    "# Vocabulary size: 52212\n",
    "# Max length of sentence: 300"
   ]
  },
  {
   "cell_type": "markdown",
   "metadata": {},
   "source": [
    "# 5. Define a Network"
   ]
  },
  {
   "cell_type": "code",
   "execution_count": 15,
   "metadata": {},
   "outputs": [
    {
     "name": "stdout",
     "output_type": "stream",
     "text": [
      "Model: \"sequential\"\n",
      "_________________________________________________________________\n",
      " Layer (type)                Output Shape              Param #   \n",
      "=================================================================\n",
      " embedding (Embedding)       (None, 1894, 100)         1000000   \n",
      "                                                                 \n",
      " flatten (Flatten)           (None, 189400)            0         \n",
      "                                                                 \n",
      " dense (Dense)               (None, 32)                6060832   \n",
      "                                                                 \n",
      " dense_1 (Dense)             (None, 5)                 165       \n",
      "                                                                 \n",
      "=================================================================\n",
      "Total params: 7,060,997\n",
      "Trainable params: 6,060,997\n",
      "Non-trainable params: 1,000,000\n",
      "_________________________________________________________________\n"
     ]
    }
   ],
   "source": [
    "from keras.models import Sequential\n",
    "from keras.layers import Embedding, Flatten , Dense\n",
    "\n",
    "network_g = Sequential()\n",
    "network_g.add(Embedding(max_words , embedding_dim , input_length =  max_length, weights=[embeddings_matrix] , trainable = False))\n",
    "network_g.add(Flatten())\n",
    "network_g.add(Dense(32 , activation = 'relu'))\n",
    "network_g.add(Dense(5 , activation = 'softmax'))\n",
    "network_g.summary()"
   ]
  },
  {
   "cell_type": "code",
   "execution_count": 23,
   "metadata": {},
   "outputs": [
    {
     "name": "stdout",
     "output_type": "stream",
     "text": [
      "Train on 18441 samples, validate on 2050 samples\n",
      "Epoch 1/20\n",
      "18441/18441 [==============================] - 35s 2ms/step - loss: 0.3990 - acc: 0.8206 - val_loss: 0.3740 - val_acc: 0.8263\n",
      "Epoch 2/20\n",
      "18441/18441 [==============================] - 34s 2ms/step - loss: 0.3227 - acc: 0.8480 - val_loss: 0.3705 - val_acc: 0.8258\n",
      "Epoch 3/20\n",
      "18441/18441 [==============================] - 36s 2ms/step - loss: 0.2658 - acc: 0.8792 - val_loss: 0.4194 - val_acc: 0.8115\n",
      "Epoch 4/20\n",
      "18441/18441 [==============================] - 35s 2ms/step - loss: 0.2139 - acc: 0.9070 - val_loss: 0.4846 - val_acc: 0.7898\n",
      "Epoch 5/20\n",
      "18441/18441 [==============================] - 34s 2ms/step - loss: 0.1674 - acc: 0.9317 - val_loss: 0.5292 - val_acc: 0.8000\n",
      "Epoch 6/20\n",
      "18441/18441 [==============================] - 35s 2ms/step - loss: 0.1267 - acc: 0.9514 - val_loss: 0.5775 - val_acc: 0.8039\n",
      "Epoch 7/20\n",
      "18441/18441 [==============================] - 37s 2ms/step - loss: 0.0938 - acc: 0.9648 - val_loss: 0.6502 - val_acc: 0.7972\n",
      "Epoch 8/20\n",
      "18441/18441 [==============================] - 36s 2ms/step - loss: 0.0668 - acc: 0.9776 - val_loss: 0.7704 - val_acc: 0.7916\n",
      "Epoch 9/20\n",
      "18441/18441 [==============================] - 35s 2ms/step - loss: 0.0465 - acc: 0.9852 - val_loss: 0.8982 - val_acc: 0.7986\n",
      "Epoch 10/20\n",
      "18441/18441 [==============================] - 36s 2ms/step - loss: 0.0339 - acc: 0.9896 - val_loss: 0.9452 - val_acc: 0.7980\n",
      "Epoch 11/20\n",
      "18441/18441 [==============================] - 35s 2ms/step - loss: 0.0253 - acc: 0.9927 - val_loss: 1.0892 - val_acc: 0.7988\n",
      "Epoch 12/20\n",
      "18441/18441 [==============================] - 36s 2ms/step - loss: 0.0184 - acc: 0.9951 - val_loss: 1.2223 - val_acc: 0.7839\n",
      "Epoch 13/20\n",
      "18441/18441 [==============================] - 36s 2ms/step - loss: 0.0167 - acc: 0.9962 - val_loss: 1.1583 - val_acc: 0.7953\n",
      "Epoch 14/20\n",
      "18441/18441 [==============================] - 37s 2ms/step - loss: 0.0114 - acc: 0.9970 - val_loss: 1.2896 - val_acc: 0.7842\n",
      "Epoch 15/20\n",
      "18441/18441 [==============================] - 35s 2ms/step - loss: 0.0098 - acc: 0.9975 - val_loss: 1.3161 - val_acc: 0.7923\n",
      "Epoch 16/20\n",
      "18441/18441 [==============================] - 36s 2ms/step - loss: 0.0088 - acc: 0.9980 - val_loss: 1.3345 - val_acc: 0.7841\n",
      "Epoch 17/20\n",
      "18441/18441 [==============================] - 36s 2ms/step - loss: 0.0069 - acc: 0.9985 - val_loss: 1.4099 - val_acc: 0.7908\n",
      "Epoch 18/20\n",
      "18441/18441 [==============================] - 37s 2ms/step - loss: 0.0057 - acc: 0.9987 - val_loss: 1.4832 - val_acc: 0.7970\n",
      "Epoch 19/20\n",
      "18441/18441 [==============================] - 36s 2ms/step - loss: 0.0057 - acc: 0.9985 - val_loss: 1.5114 - val_acc: 0.7894\n",
      "Epoch 20/20\n",
      "18441/18441 [==============================] - 36s 2ms/step - loss: 0.0048 - acc: 0.9990 - val_loss: 1.5895 - val_acc: 0.7870\n"
     ]
    }
   ],
   "source": [
    "network_g.compile(optimizer= 'rmsprop' , loss= 'binary_crossentropy' , metrics= ['acc'])\n",
    "hist_g = network_g.fit( x_train , y_train , epochs= 20 , batch_size= 32 , validation_data= (x_val,y_val))"
   ]
  },
  {
   "cell_type": "code",
   "execution_count": 24,
   "metadata": {},
   "outputs": [],
   "source": [
    "network_g.save('models/network_g')"
   ]
  },
  {
   "cell_type": "code",
   "execution_count": 25,
   "metadata": {},
   "outputs": [
    {
     "data": {
      "image/png": "[encoded data removed]",
      "text/plain": [
       "<Figure size 432x288 with 1 Axes>"
      ]
     },
     "metadata": {
      "needs_background": "light"
     },
     "output_type": "display_data"
    },
    {
     "data": {
      "image/png": "[encoded data removed]",
      "text/plain": [
       "<Figure size 432x288 with 1 Axes>"
      ]
     },
     "metadata": {
      "needs_background": "light"
     },
     "output_type": "display_data"
    }
   ],
   "source": [
    "import matplotlib.pyplot as plt\n",
    "\n",
    "\n",
    "acc_g = hist_g.history['acc']\n",
    "val_acc_g= hist_g.history['val_acc']\n",
    "\n",
    "# acc = hist['acc']\n",
    "# val_acc= hist.history['val_acc']\n",
    "\n",
    "epochs = range(1,len(acc_g)+1)\n",
    "\n",
    "plt.plot(epochs , val_acc_g ,'r' ,label= 'Val')\n",
    "# plt.plot(epochs , val_acc, 'b', label= 'Without Glove')\n",
    "\n",
    "# plt.legend()\n",
    "# plt.show()\n",
    "\n",
    "plt.title(\"Glove (Trainable=False) Accuracy\")\n",
    "plt.plot(epochs , acc_g ,'b' ,label= 'Train')\n",
    "# plt.plot(epochs , acc, 'b', label= 'Without Glove')\n",
    "\n",
    "plt.legend()\n",
    "plt.show()\n",
    "\n",
    "\n",
    "\n",
    "loss_g = hist_g.history['loss']\n",
    "val_loss_g= hist_g.history['val_loss']\n",
    "\n",
    "# loss = hist['loss']\n",
    "# val_loss= hist.history['val_loss']\n",
    "\n",
    "epochs = range(1,len(loss_g)+1)\n",
    "\n",
    "plt.plot(epochs , val_loss_g ,'r' ,label= 'Val')\n",
    "# plt.plot(epochs , val_loss, 'b', label= 'Without Glove')\n",
    "\n",
    "# plt.legend()\n",
    "# plt.show()\n",
    "\n",
    "plt.title(\"Glove (Trainable=False) loss\")\n",
    "plt.plot(epochs , loss_g ,'b' ,label= 'Train')\n",
    "# plt.plot(epochs , loss, 'b', label= 'Without Glove')\n",
    "\n",
    "plt.legend()\n",
    "plt.show()\n"
   ]
  },
  {
   "cell_type": "markdown",
   "metadata": {},
   "source": [
    "# 6. Define LSTM Network using GloVe  "
   ]
  },
  {
   "cell_type": "code",
   "execution_count": 16,
   "metadata": {},
   "outputs": [
    {
     "name": "stdout",
     "output_type": "stream",
     "text": [
      "Model: \"sequential_1\"\n",
      "_________________________________________________________________\n",
      " Layer (type)                Output Shape              Param #   \n",
      "=================================================================\n",
      " embedding_1 (Embedding)     (None, 1894, 100)         1000000   \n",
      "                                                                 \n",
      " bidirectional (Bidirectiona  (None, 128)              84480     \n",
      " l)                                                              \n",
      "                                                                 \n",
      " dropout (Dropout)           (None, 128)               0         \n",
      "                                                                 \n",
      " dense_2 (Dense)             (None, 128)               16512     \n",
      "                                                                 \n",
      " dropout_1 (Dropout)         (None, 128)               0         \n",
      "                                                                 \n",
      " dense_3 (Dense)             (None, 64)                8256      \n",
      "                                                                 \n",
      " dropout_2 (Dropout)         (None, 64)                0         \n",
      "                                                                 \n",
      " dense_4 (Dense)             (None, 5)                 325       \n",
      "                                                                 \n",
      "=================================================================\n",
      "Total params: 1,109,573\n",
      "Trainable params: 109,573\n",
      "Non-trainable params: 1,000,000\n",
      "_________________________________________________________________\n"
     ]
    }
   ],
   "source": [
    "\n",
    "from tensorflow.keras.layers import Embedding, LSTM, Dense, Dropout, Bidirectional\n",
    "from tensorflow.keras.models import Sequential\n",
    "from tensorflow.keras.optimizers import Adam\n",
    "\n",
    "network_g_lstm = Sequential()\n",
    "network_g_lstm.add(Embedding(max_words, embedding_dim, input_length=max_length, weights=[embeddings_matrix], trainable=False))\n",
    "network_g_lstm.add(Bidirectional(LSTM(64)))\n",
    "network_g_lstm.add(Dropout(0.5))\n",
    "network_g_lstm.add(Dense(128, activation='relu'))\n",
    "network_g_lstm.add(Dropout(0.5))\n",
    "network_g_lstm.add(Dense(64, activation='relu'))\n",
    "network_g_lstm.add(Dropout(0.5))\n",
    "network_g_lstm.add(Dense(5 , activation = 'softmax'))\n",
    "network_g_lstm.summary()\n"
   ]
  },
  {
   "cell_type": "code",
   "execution_count": 17,
   "metadata": {},
   "outputs": [
    {
     "name": "stdout",
     "output_type": "stream",
     "text": [
      "Epoch 1/20\n",
      "577/577 [==============================] - 1073s 2s/step - loss: 0.1332 - acc: 0.4498 - val_loss: 0.1298 - val_acc: 0.4756\n",
      "Epoch 2/20\n",
      "577/577 [==============================] - 939s 2s/step - loss: 0.1196 - acc: 0.5069 - val_loss: 0.1089 - val_acc: 0.5561\n",
      "Epoch 3/20\n",
      "577/577 [==============================] - 868s 2s/step - loss: 0.1104 - acc: 0.5590 - val_loss: 0.1051 - val_acc: 0.5795\n",
      "Epoch 4/20\n",
      "577/577 [==============================] - 810s 1s/step - loss: 0.1071 - acc: 0.5819 - val_loss: 0.1014 - val_acc: 0.5917\n",
      "Epoch 5/20\n",
      "577/577 [==============================] - 766s 1s/step - loss: 0.1025 - acc: 0.6018 - val_loss: 0.1007 - val_acc: 0.6049\n",
      "Epoch 6/20\n",
      "577/577 [==============================] - 849s 1s/step - loss: 0.1005 - acc: 0.6152 - val_loss: 0.1007 - val_acc: 0.5961\n",
      "Epoch 7/20\n",
      "577/577 [==============================] - 768s 1s/step - loss: 0.0975 - acc: 0.6286 - val_loss: 0.1026 - val_acc: 0.5932\n",
      "Epoch 8/20\n",
      "577/577 [==============================] - 739s 1s/step - loss: 0.0966 - acc: 0.6309 - val_loss: 0.0963 - val_acc: 0.6171\n",
      "Epoch 9/20\n",
      "577/577 [==============================] - 743s 1s/step - loss: 0.0945 - acc: 0.6452 - val_loss: 0.0962 - val_acc: 0.6234\n",
      "Epoch 10/20\n",
      "577/577 [==============================] - 785s 1s/step - loss: 0.0932 - acc: 0.6506 - val_loss: 0.1022 - val_acc: 0.6122\n",
      "Epoch 11/20\n",
      "577/577 [==============================] - 758s 1s/step - loss: 0.0912 - acc: 0.6590 - val_loss: 0.0944 - val_acc: 0.6356\n",
      "Epoch 12/20\n",
      "577/577 [==============================] - 762s 1s/step - loss: 0.0891 - acc: 0.6691 - val_loss: 0.0957 - val_acc: 0.6190\n",
      "Epoch 13/20\n",
      "577/577 [==============================] - 716s 1s/step - loss: 0.0886 - acc: 0.6777 - val_loss: 0.0950 - val_acc: 0.6332\n",
      "Epoch 14/20\n",
      "577/577 [==============================] - 711s 1s/step - loss: 0.0871 - acc: 0.6817 - val_loss: 0.0957 - val_acc: 0.6346\n",
      "Epoch 15/20\n",
      "577/577 [==============================] - 727s 1s/step - loss: 0.0855 - acc: 0.6886 - val_loss: 0.0979 - val_acc: 0.6380\n",
      "Epoch 16/20\n",
      "577/577 [==============================] - 827s 1s/step - loss: 0.0836 - acc: 0.6986 - val_loss: 0.0971 - val_acc: 0.6205\n",
      "Epoch 17/20\n",
      "577/577 [==============================] - 706s 1s/step - loss: 0.0816 - acc: 0.7076 - val_loss: 0.0960 - val_acc: 0.6322\n",
      "Epoch 18/20\n",
      "577/577 [==============================] - 840s 1s/step - loss: 0.0811 - acc: 0.7126 - val_loss: 0.1009 - val_acc: 0.6337\n",
      "Epoch 19/20\n",
      "577/577 [==============================] - 728s 1s/step - loss: 0.0788 - acc: 0.7217 - val_loss: 0.0999 - val_acc: 0.6288\n",
      "Epoch 20/20\n",
      "577/577 [==============================] - 839s 1s/step - loss: 0.0769 - acc: 0.7315 - val_loss: 0.0998 - val_acc: 0.6288\n"
     ]
    }
   ],
   "source": [
    "network_g_lstm.compile(optimizer= 'Adam' , loss= 'mse' , metrics= ['acc'])\n",
    "hist_g_lstm = network_g_lstm.fit( x_train , y_train , epochs= 20 , batch_size= 32 , validation_data= (x_val,y_val))"
   ]
  },
  {
   "cell_type": "code",
   "execution_count": 19,
   "metadata": {},
   "outputs": [
    {
     "name": "stderr",
     "output_type": "stream",
     "text": [
      "WARNING:absl:Found untraced functions such as lstm_cell_1_layer_call_fn, lstm_cell_1_layer_call_and_return_conditional_losses, lstm_cell_2_layer_call_fn, lstm_cell_2_layer_call_and_return_conditional_losses while saving (showing 4 of 4). These functions will not be directly callable after loading.\n"
     ]
    },
    {
     "name": "stdout",
     "output_type": "stream",
     "text": [
      "INFO:tensorflow:Assets written to: models/network_g_lstm\\assets\n"
     ]
    },
    {
     "name": "stderr",
     "output_type": "stream",
     "text": [
      "INFO:tensorflow:Assets written to: models/network_g_lstm\\assets\n"
     ]
    }
   ],
   "source": [
    "network_g_lstm.save('models/network_g_lstm')"
   ]
  },
  {
   "cell_type": "code",
   "execution_count": 20,
   "metadata": {},
   "outputs": [
    {
     "data": {
      "image/png": "[encoded data removed]",
      "text/plain": [
       "<Figure size 432x288 with 1 Axes>"
      ]
     },
     "metadata": {
      "needs_background": "light"
     },
     "output_type": "display_data"
    },
    {
     "data": {
      "image/png": "[encoded data removed]",
      "text/plain": [
       "<Figure size 432x288 with 1 Axes>"
      ]
     },
     "metadata": {
      "needs_background": "light"
     },
     "output_type": "display_data"
    }
   ],
   "source": [
    "import matplotlib.pyplot as plt\n",
    "\n",
    "\n",
    "acc_g_lstm = hist_g_lstm.history['acc']\n",
    "val_acc_g_lstm= hist_g_lstm.history['val_acc']\n",
    "\n",
    "# acc = hist['acc']\n",
    "# val_acc= hist.history['val_acc']\n",
    "\n",
    "epochs = range(1,len(acc_g_lstm)+1)\n",
    "\n",
    "plt.plot(epochs , val_acc_g_lstm ,'r' ,label= 'Val')\n",
    "# plt.plot(epochs , val_acc, 'b', label= 'Without Glove')\n",
    "\n",
    "# plt.legend()\n",
    "# plt.show()\n",
    "\n",
    "plt.title(\"Glove (Trainable=False) Accuracy using LSTM\")\n",
    "plt.plot(epochs , acc_g_lstm ,'b' ,label= 'Train')\n",
    "# plt.plot(epochs , acc, 'b', label= 'Without Glove')\n",
    "\n",
    "plt.legend()\n",
    "plt.show()\n",
    "\n",
    "\n",
    "loss_g_lstm = hist_g_lstm.history['loss']\n",
    "val_loss_g_lstm= hist_g_lstm.history['val_loss']\n",
    "\n",
    "# loss = hist['loss']\n",
    "# val_loss= hist.history['val_loss']\n",
    "\n",
    "epochs = range(1,len(loss_g_lstm)+1)\n",
    "\n",
    "plt.plot(epochs , val_loss_g_lstm ,'r' ,label= 'Val')\n",
    "# plt.plot(epochs , val_loss, 'b', label= 'Without Glove')\n",
    "\n",
    "# plt.legend()\n",
    "# plt.show()\n",
    "\n",
    "plt.title(\"Glove (Trainable=False) loss using LSTM\")\n",
    "plt.plot(epochs , loss_g_lstm ,'b' ,label= 'Train')\n",
    "# plt.plot(epochs , loss, 'b', label= 'Without Glove')\n",
    "\n",
    "plt.legend()\n",
    "plt.show()"
   ]
  },
  {
   "cell_type": "markdown",
   "metadata": {},
   "source": [
    "# 7. Define LSTM using Glove (trainable=True) "
   ]
  },
  {
   "cell_type": "code",
   "execution_count": null,
   "metadata": {},
   "outputs": [
    {
     "name": "stdout",
     "output_type": "stream",
     "text": [
      "Model: \"sequential_2\"\n",
      "_________________________________________________________________\n",
      " Layer (type)                Output Shape              Param #   \n",
      "=================================================================\n",
      " embedding_2 (Embedding)     (None, 1894, 100)         1000000   \n",
      "                                                                 \n",
      " bidirectional_1 (Bidirectio  (None, 128)              84480     \n",
      " nal)                                                            \n",
      "                                                                 \n",
      " dropout_6 (Dropout)         (None, 128)               0         \n",
      "                                                                 \n",
      " dense_6 (Dense)             (None, 128)               16512     \n",
      "                                                                 \n",
      " dropout_7 (Dropout)         (None, 128)               0         \n",
      "                                                                 \n",
      " dense_7 (Dense)             (None, 64)                8256      \n",
      "                                                                 \n",
      " dropout_8 (Dropout)         (None, 64)                0         \n",
      "                                                                 \n",
      " dense_8 (Dense)             (None, 5)                 325       \n",
      "                                                                 \n",
      "=================================================================\n",
      "Total params: 1,109,573\n",
      "Trainable params: 1,109,573\n",
      "Non-trainable params: 0\n",
      "_________________________________________________________________\n"
     ]
    }
   ],
   "source": [
    "network_g_lstm_trainable = Sequential()\n",
    "network_g_lstm_trainable.add(Embedding(max_words, embedding_dim, input_length=max_length, weights=[embeddings_matrix], trainable=True))\n",
    "network_g_lstm_trainable.add(Bidirectional(LSTM(64)))\n",
    "network_g_lstm_trainable.add(Dropout(0.5))\n",
    "network_g_lstm_trainable.add(Dense(128, activation='relu'))\n",
    "network_g_lstm_trainable.add(Dropout(0.5))\n",
    "network_g_lstm_trainable.add(Dense(64, activation='relu'))\n",
    "network_g_lstm_trainable.add(Dropout(0.5))\n",
    "network_g_lstm_trainable.add(Dense(5 , activation = 'softmax'))\n",
    "network_g_lstm_trainable.summary()\n"
   ]
  },
  {
   "cell_type": "code",
   "execution_count": null,
   "metadata": {},
   "outputs": [
    {
     "name": "stdout",
     "output_type": "stream",
     "text": [
      "Epoch 1/20\n",
      "577/577 [==============================] - 1562s 3s/step - loss: 0.1317 - acc: 0.4562 - val_loss: 0.1199 - val_acc: 0.5063\n",
      "Epoch 2/20\n",
      "577/577 [==============================] - 1371s 2s/step - loss: 0.1223 - acc: 0.4896 - val_loss: 0.1097 - val_acc: 0.5429\n",
      "Epoch 3/20\n",
      "577/577 [==============================] - 1387s 2s/step - loss: 0.1148 - acc: 0.5388 - val_loss: 0.1063 - val_acc: 0.5790\n",
      "Epoch 4/20\n",
      "577/577 [==============================] - 1488s 3s/step - loss: 0.1017 - acc: 0.6067 - val_loss: 0.0987 - val_acc: 0.6220\n",
      "Epoch 5/20\n",
      "577/577 [==============================] - 1412s 2s/step - loss: 0.0924 - acc: 0.6547 - val_loss: 0.0953 - val_acc: 0.6351\n",
      "Epoch 6/20\n",
      "577/577 [==============================] - 1472s 3s/step - loss: 0.0844 - acc: 0.6951 - val_loss: 0.1000 - val_acc: 0.6327\n",
      "Epoch 7/20\n",
      "577/577 [==============================] - 1384s 2s/step - loss: 0.0762 - acc: 0.7354 - val_loss: 0.0993 - val_acc: 0.6278\n",
      "Epoch 8/20\n",
      "577/577 [==============================] - 1426s 2s/step - loss: 0.0684 - acc: 0.7693 - val_loss: 0.1069 - val_acc: 0.6190\n",
      "Epoch 9/20\n",
      "577/577 [==============================] - 1372s 2s/step - loss: 0.0613 - acc: 0.7965 - val_loss: 0.1132 - val_acc: 0.6185\n",
      "Epoch 10/20\n",
      "577/577 [==============================] - 1370s 2s/step - loss: 0.0553 - acc: 0.8234 - val_loss: 0.1178 - val_acc: 0.6176\n",
      "Epoch 11/20\n",
      "577/577 [==============================] - 1351s 2s/step - loss: 0.0490 - acc: 0.8460 - val_loss: 0.1232 - val_acc: 0.6000\n",
      "Epoch 12/20\n",
      "577/577 [==============================] - 1355s 2s/step - loss: 0.0443 - acc: 0.8652 - val_loss: 0.1313 - val_acc: 0.6073\n",
      "Epoch 13/20\n",
      "577/577 [==============================] - 1563s 3s/step - loss: 0.0407 - acc: 0.8779 - val_loss: 0.1285 - val_acc: 0.6171\n",
      "Epoch 14/20\n",
      "577/577 [==============================] - 1387s 2s/step - loss: 0.0374 - acc: 0.8901 - val_loss: 0.1330 - val_acc: 0.6151\n",
      "Epoch 15/20\n",
      "577/577 [==============================] - 1386s 2s/step - loss: 0.0342 - acc: 0.9004 - val_loss: 0.1395 - val_acc: 0.6112\n",
      "Epoch 16/20\n",
      "577/577 [==============================] - 1390s 2s/step - loss: 0.0319 - acc: 0.9075 - val_loss: 0.1377 - val_acc: 0.6093\n",
      "Epoch 17/20\n",
      "577/577 [==============================] - 1391s 2s/step - loss: 0.0306 - acc: 0.9117 - val_loss: 0.1420 - val_acc: 0.6000\n",
      "Epoch 18/20\n",
      "577/577 [==============================] - 1394s 2s/step - loss: 0.0284 - acc: 0.9210 - val_loss: 0.1467 - val_acc: 0.6005\n",
      "Epoch 19/20\n",
      "577/577 [==============================] - 1402s 2s/step - loss: 0.0280 - acc: 0.9217 - val_loss: 0.1449 - val_acc: 0.6044\n",
      "Epoch 20/20\n",
      "577/577 [==============================] - 1398s 2s/step - loss: 0.0274 - acc: 0.9241 - val_loss: 0.1492 - val_acc: 0.5932\n"
     ]
    }
   ],
   "source": [
    "network_g_lstm_trainable.compile(optimizer= 'Adam' , loss= 'mse' , metrics= ['acc'])\n",
    "hist_g_lstm_trainable = network_g_lstm_trainable.fit( x_train , y_train , epochs= 20 , batch_size= 32 , validation_data= (x_val,y_val))"
   ]
  },
  {
   "cell_type": "code",
   "execution_count": null,
   "metadata": {},
   "outputs": [
    {
     "name": "stderr",
     "output_type": "stream",
     "text": [
      "WARNING:absl:Found untraced functions such as lstm_cell_4_layer_call_fn, lstm_cell_4_layer_call_and_return_conditional_losses, lstm_cell_5_layer_call_fn, lstm_cell_5_layer_call_and_return_conditional_losses while saving (showing 4 of 4). These functions will not be directly callable after loading.\n"
     ]
    },
    {
     "name": "stdout",
     "output_type": "stream",
     "text": [
      "INFO:tensorflow:Assets written to: models/network_g_lstm_trainable\\assets\n"
     ]
    },
    {
     "name": "stderr",
     "output_type": "stream",
     "text": [
      "INFO:tensorflow:Assets written to: models/network_g_lstm_trainable\\assets\n"
     ]
    }
   ],
   "source": [
    "network_g_lstm.save('models/network_g_lstm_trainable')"
   ]
  },
  {
   "cell_type": "code",
   "execution_count": null,
   "metadata": {},
   "outputs": [
    {
     "data": {
      "image/png": "[encoded data removed]",
      "text/plain": [
       "<Figure size 432x288 with 1 Axes>"
      ]
     },
     "metadata": {
      "needs_background": "light"
     },
     "output_type": "display_data"
    },
    {
     "data": {
      "image/png": "[encoded data removed]",
      "text/plain": [
       "<Figure size 432x288 with 1 Axes>"
      ]
     },
     "metadata": {
      "needs_background": "light"
     },
     "output_type": "display_data"
    }
   ],
   "source": [
    "acc_g_lstm_trainable = hist_g_lstm_trainable.history['acc']\n",
    "val_acc_g_lstm_trainable = hist_g_lstm_trainable.history['val_acc']\n",
    "\n",
    "# acc = hist['acc']\n",
    "# val_acc= hist.history['val_acc']\n",
    "\n",
    "epochs = range(1,len(acc_g_lstm_trainable)+1)\n",
    "\n",
    "plt.plot(epochs , val_acc_g_lstm_trainable ,'r' ,label= 'Val')\n",
    "# plt.plot(epochs , val_acc, 'b', label= 'Without Glove')\n",
    "\n",
    "# plt.legend()\n",
    "# plt.show()\n",
    "\n",
    "plt.title(\"Glove (Trainalbe=True) Accuracy using LSTM\")\n",
    "plt.plot(epochs , acc_g_lstm_trainable ,'b' ,label= 'Train')\n",
    "# plt.plot(epochs , acc, 'b', label= 'Without Glove')\n",
    "\n",
    "plt.legend()\n",
    "plt.show()\n",
    "\n",
    "loss_g_lstm_trainable = hist_g_lstm_trainable.history['loss']\n",
    "val_loss_g_lstm_trainable= hist_g_lstm_trainable.history['val_loss']\n",
    "\n",
    "# loss = hist['loss']\n",
    "# val_loss= hist.history['val_loss']\n",
    "\n",
    "epochs = range(1,len(loss_g_lstm_trainable)+1)\n",
    "\n",
    "plt.plot(epochs , val_loss_g_lstm_trainable ,'r' ,label= 'Val')\n",
    "# plt.plot(epochs , val_loss, 'b', label= 'Without Glove')\n",
    "\n",
    "# plt.legend()\n",
    "# plt.show()\n",
    "\n",
    "plt.title(\"Glove (Trainalbe=True) loss using LSTM\")\n",
    "plt.plot(epochs , loss_g_lstm_trainable ,'b' ,label= 'Train')\n",
    "# plt.plot(epochs , loss, 'b', label= 'Without Glove')\n",
    "\n",
    "plt.legend()\n",
    "plt.show()"
   ]
  },
  {
   "cell_type": "markdown",
   "metadata": {},
   "source": [
    "# 8. Define RNN Network using GloVe"
   ]
  },
  {
   "cell_type": "code",
   "execution_count": null,
   "metadata": {},
   "outputs": [
    {
     "name": "stdout",
     "output_type": "stream",
     "text": [
      "Model: \"sequential_1\"\n",
      "_________________________________________________________________\n",
      " Layer (type)                Output Shape              Param #   \n",
      "=================================================================\n",
      " embedding_1 (Embedding)     (None, 1894, 100)         1000000   \n",
      "                                                                 \n",
      " simple_rnn (SimpleRNN)      (None, 64)                10560     \n",
      "                                                                 \n",
      " dropout_3 (Dropout)         (None, 64)                0         \n",
      "                                                                 \n",
      " dense_3 (Dense)             (None, 128)               8320      \n",
      "                                                                 \n",
      " dropout_4 (Dropout)         (None, 128)               0         \n",
      "                                                                 \n",
      " dense_4 (Dense)             (None, 64)                8256      \n",
      "                                                                 \n",
      " dropout_5 (Dropout)         (None, 64)                0         \n",
      "                                                                 \n",
      " dense_5 (Dense)             (None, 5)                 325       \n",
      "                                                                 \n",
      "=================================================================\n",
      "Total params: 1,027,461\n",
      "Trainable params: 27,461\n",
      "Non-trainable params: 1,000,000\n",
      "_________________________________________________________________\n"
     ]
    }
   ],
   "source": [
    "from keras.models import Sequential\n",
    "from keras.layers import Embedding, SimpleRNN, Dense\n",
    "\n",
    "network_g_rnn = Sequential()\n",
    "network_g_rnn.add(Embedding(max_words, embedding_dim, input_length=max_length, weights=[embeddings_matrix], trainable=False))\n",
    "network_g_rnn.add(SimpleRNN(64))\n",
    "network_g_rnn.add(Dropout(0.5))\n",
    "network_g_rnn.add(Dense(128, activation='relu'))\n",
    "network_g_rnn.add(Dropout(0.5))\n",
    "network_g_rnn.add(Dense(64, activation='relu'))\n",
    "network_g_rnn.add(Dropout(0.5))\n",
    "network_g_rnn.add(Dense(5 , activation = 'softmax'))\n",
    "network_g_rnn.summary()"
   ]
  },
  {
   "cell_type": "code",
   "execution_count": null,
   "metadata": {},
   "outputs": [
    {
     "name": "stdout",
     "output_type": "stream",
     "text": [
      "Epoch 1/20\n",
      "577/577 [==============================] - 127s 219ms/step - loss: 0.1452 - acc: 0.4083 - val_loss: 0.1423 - val_acc: 0.4371\n",
      "Epoch 2/20\n",
      "577/577 [==============================] - 128s 222ms/step - loss: 0.1384 - acc: 0.4341 - val_loss: 0.1389 - val_acc: 0.4424\n",
      "Epoch 3/20\n",
      "577/577 [==============================] - 134s 231ms/step - loss: 0.1384 - acc: 0.4405 - val_loss: 0.1388 - val_acc: 0.4420\n",
      "Epoch 4/20\n",
      "577/577 [==============================] - 133s 230ms/step - loss: 0.1392 - acc: 0.4410 - val_loss: 0.1393 - val_acc: 0.4420\n",
      "Epoch 5/20\n",
      "577/577 [==============================] - 124s 216ms/step - loss: 0.1379 - acc: 0.4412 - val_loss: 0.1361 - val_acc: 0.4420\n",
      "Epoch 6/20\n",
      "577/577 [==============================] - 105s 183ms/step - loss: 0.1375 - acc: 0.4402 - val_loss: 0.1383 - val_acc: 0.4415\n",
      "Epoch 7/20\n",
      "577/577 [==============================] - 106s 183ms/step - loss: 0.1366 - acc: 0.4430 - val_loss: 0.1363 - val_acc: 0.4424\n",
      "Epoch 8/20\n",
      "577/577 [==============================] - 106s 183ms/step - loss: 0.1377 - acc: 0.4421 - val_loss: 0.1360 - val_acc: 0.4473\n",
      "Epoch 9/20\n",
      "577/577 [==============================] - 105s 182ms/step - loss: 0.1362 - acc: 0.4425 - val_loss: 0.1350 - val_acc: 0.4434\n",
      "Epoch 10/20\n",
      "577/577 [==============================] - 117s 203ms/step - loss: 0.1351 - acc: 0.4433 - val_loss: 0.1357 - val_acc: 0.4532\n",
      "Epoch 11/20\n",
      "577/577 [==============================] - 136s 236ms/step - loss: 0.1345 - acc: 0.4480 - val_loss: 0.1351 - val_acc: 0.4590\n",
      "Epoch 12/20\n",
      "577/577 [==============================] - 137s 238ms/step - loss: 0.1361 - acc: 0.4479 - val_loss: 0.1390 - val_acc: 0.4420\n",
      "Epoch 13/20\n",
      "577/577 [==============================] - 138s 240ms/step - loss: 0.1389 - acc: 0.4418 - val_loss: 0.1389 - val_acc: 0.4420\n",
      "Epoch 14/20\n",
      "577/577 [==============================] - 144s 250ms/step - loss: 0.1388 - acc: 0.4414 - val_loss: 0.1388 - val_acc: 0.4420\n",
      "Epoch 15/20\n",
      "577/577 [==============================] - 113s 197ms/step - loss: 0.1386 - acc: 0.4410 - val_loss: 0.1386 - val_acc: 0.4420\n",
      "Epoch 16/20\n",
      "577/577 [==============================] - 112s 195ms/step - loss: 0.1386 - acc: 0.4423 - val_loss: 0.1381 - val_acc: 0.4420\n",
      "Epoch 17/20\n",
      "577/577 [==============================] - 112s 195ms/step - loss: 0.1381 - acc: 0.4410 - val_loss: 0.1369 - val_acc: 0.4420\n",
      "Epoch 18/20\n",
      "577/577 [==============================] - 112s 194ms/step - loss: 0.1375 - acc: 0.4416 - val_loss: 0.1363 - val_acc: 0.4420\n",
      "Epoch 19/20\n",
      "577/577 [==============================] - 111s 193ms/step - loss: 0.1362 - acc: 0.4444 - val_loss: 0.1349 - val_acc: 0.4434\n",
      "Epoch 20/20\n",
      "577/577 [==============================] - 111s 193ms/step - loss: 0.1351 - acc: 0.4456 - val_loss: 0.1340 - val_acc: 0.4434\n"
     ]
    }
   ],
   "source": [
    "network_g_rnn.compile(optimizer= 'Adam' , loss= 'mse' , metrics= ['acc'])\n",
    "hist_g_rnn = network_g_rnn.fit( x_train , y_train , epochs= 20 , batch_size= 32 , validation_data= (x_val,y_val))"
   ]
  },
  {
   "cell_type": "code",
   "execution_count": null,
   "metadata": {},
   "outputs": [
    {
     "name": "stdout",
     "output_type": "stream",
     "text": [
      "INFO:tensorflow:Assets written to: models/network_g_rnn\\assets\n"
     ]
    },
    {
     "name": "stderr",
     "output_type": "stream",
     "text": [
      "INFO:tensorflow:Assets written to: models/network_g_rnn\\assets\n"
     ]
    }
   ],
   "source": [
    "network_g_rnn.save('models/network_g_rnn')"
   ]
  },
  {
   "cell_type": "code",
   "execution_count": null,
   "metadata": {},
   "outputs": [
    {
     "data": {
      "image/png": "[encoded data removed]",
      "text/plain": [
       "<Figure size 432x288 with 1 Axes>"
      ]
     },
     "metadata": {
      "needs_background": "light"
     },
     "output_type": "display_data"
    },
    {
     "data": {
      "image/png": "[encoded data removed]",
      "text/plain": [
       "<Figure size 432x288 with 1 Axes>"
      ]
     },
     "metadata": {
      "needs_background": "light"
     },
     "output_type": "display_data"
    }
   ],
   "source": [
    "acc_g_rnn = hist_g_rnn.history['acc']\n",
    "val_acc_g_rnn= hist_g_rnn.history['val_acc']\n",
    "\n",
    "# acc = hist['acc']\n",
    "# val_acc= hist.history['val_acc']\n",
    "\n",
    "epochs = range(1,len(acc_g_rnn)+1)\n",
    "\n",
    "plt.plot(epochs , val_acc_g_rnn ,'r' ,label= 'Val')\n",
    "# plt.plot(epochs , val_acc, 'b', label= 'Without Glove')\n",
    "\n",
    "# plt.legend()\n",
    "# plt.show()\n",
    "\n",
    "plt.title(\"Glove Accuracy using RNN\")\n",
    "plt.plot(epochs , acc_g_rnn ,'b' ,label= 'Train')\n",
    "# plt.plot(epochs , acc, 'b', label= 'Without Glove')\n",
    "\n",
    "plt.legend()\n",
    "plt.show()\n",
    "\n",
    "loss_g_rnn = hist_g_rnn.history['loss']\n",
    "val_loss_g_rnn= hist_g_rnn.history['val_loss']\n",
    "\n",
    "# loss = hist['loss']\n",
    "# val_loss= hist.history['val_loss']\n",
    "\n",
    "epochs = range(1,len(loss_g_rnn)+1)\n",
    "\n",
    "plt.plot(epochs , val_loss_g_rnn ,'r' ,label= 'Val')\n",
    "# plt.plot(epochs , val_loss, 'b', label= 'Without Glove')\n",
    "\n",
    "# plt.legend()\n",
    "# plt.show()\n",
    "\n",
    "plt.title(\"Glove loss using RNN\")\n",
    "plt.plot(epochs , loss_g_rnn ,'b' ,label= 'Train')\n",
    "# plt.plot(epochs , loss, 'b', label= 'Without Glove')\n",
    "\n",
    "plt.legend()\n",
    "plt.show()"
   ]
  },
  {
   "cell_type": "code",
   "execution_count": null,
   "metadata": {},
   "outputs": [],
   "source": []
  },
  {
   "cell_type": "code",
   "execution_count": null,
   "metadata": {},
   "outputs": [],
   "source": []
  }
 ],
 "metadata": {
  "interpreter": {
   "hash": "165a6f36f7d491e8bd574440262d9f6d644440088f990afccea87ac98c6f979d"
  },
  "kernelspec": {
   "display_name": "Python 3.9.0 ('roni')",
   "language": "python",
   "name": "python3"
  },
  "language_info": {
   "codemirror_mode": {
    "name": "ipython",
    "version": 3
   },
   "file_extension": ".py",
   "mimetype": "text/x-python",
   "name": "python",
   "nbconvert_exporter": "python",
   "pygments_lexer": "ipython3",
   "version": "3.9.0"
  }
 },
 "nbformat": 4,
 "nbformat_minor": 4
}
